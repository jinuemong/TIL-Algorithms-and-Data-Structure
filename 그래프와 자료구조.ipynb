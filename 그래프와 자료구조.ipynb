{
 "cells": [
  {
   "cell_type": "markdown",
   "id": "e57379c8",
   "metadata": {},
   "source": [
    "### 그래프 : 실제 세계의 현상이나 사물을 정점 또는 노드와 간선으로 표현하기 위해 사용\n",
    "\n",
    "- 노드 : 위치를 말함, 정점 \n",
    "- 간선 : 위치 간의 관계를 표시한 선으로 노드를 연결한 선이라고 보면 됨\n",
    "- 인접 정점 : 간선으로 직접 연결된 정점\n",
    "- 단순 경로 : 처음 정점과 끝 정점을 제외하고 중복된 정점이 없는 경로\n",
    "- 경로 길이 : 경로를 구성하기 위해 사용된 간선의 수 "
   ]
  },
  {
   "cell_type": "markdown",
   "id": "a700ae84",
   "metadata": {},
   "source": [
    "#### 가중치 그래프 or 네트워크 \n",
    "- 간선에 비용 또는 가중치가 할당된 그래프"
   ]
  },
  {
   "cell_type": "markdown",
   "id": "62f863cf",
   "metadata": {},
   "source": [
    "#### 연결 그래프와 비연결 그래프\n",
    "\n",
    "-   연결 그래프 : 무방향 그래프에 있는 모든 노드에 대해 항상 경로가 존재\n",
    "- 비연결 그래프 : 무방향 그래프에서 특정 노드에 대해 경로가 존재하지 않음"
   ]
  },
  {
   "cell_type": "markdown",
   "id": "f5c2f7fd",
   "metadata": {},
   "source": [
    "#### 사이클과 비순환 그래프\n",
    "\n",
    "-        사이클 : 단순 경로의 시작 노드와 종료 노드가 동일한 경우\n",
    "- 비순환 그래프 : 사이클이 없는 그래프"
   ]
  },
  {
   "cell_type": "markdown",
   "id": "703d683a",
   "metadata": {},
   "source": [
    "#### 완전 그래프\n",
    "- 그래프의 모든 노드가 서로 연결되어 있는 그래프"
   ]
  },
  {
   "cell_type": "markdown",
   "id": "1fe0b603",
   "metadata": {},
   "source": [
    "#### 그래프와 트리의 차이\n",
    "- 트리는 그래프 중에 속한 특별한 종류\n",
    "- 그래프 : 노드와 노드를 연결 , 트리 : 그래프의 한 종류, 방향성이 있음\n",
    "- 그래프 : 사이클 가능        , 트리 : 비순환 그래프로 사이클 존재 x\n",
    "-          루트 노드 x        ,        루트 노드 존재"
   ]
  },
  {
   "cell_type": "code",
   "execution_count": null,
   "id": "81386b6e",
   "metadata": {},
   "outputs": [],
   "source": []
  }
 ],
 "metadata": {
  "kernelspec": {
   "display_name": "Python 3 (ipykernel)",
   "language": "python",
   "name": "python3"
  },
  "language_info": {
   "codemirror_mode": {
    "name": "ipython",
    "version": 3
   },
   "file_extension": ".py",
   "mimetype": "text/x-python",
   "name": "python",
   "nbconvert_exporter": "python",
   "pygments_lexer": "ipython3",
   "version": "3.9.12"
  }
 },
 "nbformat": 4,
 "nbformat_minor": 5
}

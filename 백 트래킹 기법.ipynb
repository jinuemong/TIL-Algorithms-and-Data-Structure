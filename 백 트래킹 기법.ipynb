{
 "cells": [
  {
   "cell_type": "markdown",
   "id": "abab6d6a",
   "metadata": {},
   "source": [
    "### 백 트래킹 기법\n",
    "\n",
    "- 해를 찾기 위해 점진적으로 체크\n",
    "- 만족할 수 없다고 판단하는 즉시 Back\n",
    "- 고려 가능한 경우의 수를 트리로 표현 (상태 공간 트리)\n",
    "- 트리 구조 기반으로 DFS로 깊이 탐색 후 부합하는지 체크,\n",
    "- 조건이 맞지 않으면 더 이상 DFS로 탐색하지 않고 가지 치기\n"
   ]
  },
  {
   "cell_type": "markdown",
   "id": "b77ff61a",
   "metadata": {},
   "source": [
    "### 2. N Queen 문제 이해  (백 트래킹의 기초)\n",
    "- 대표적인 백트래킹 문제\n",
    "- NxN 크기의 체스판에 N개의 퀸을 서로 공격할 수 없도록 배치하는 문제\n",
    "- 퀸은 다음과 같이 이동할 수 있으므로, 배치된 퀸 간에 공격할 수 없는 위치로 배치해야 함\n",
    "<img src=\"https://www.fun-coding.org/00_Images/queen_move.png\">"
   ]
  },
  {
   "cell_type": "markdown",
   "id": "cd09ac7f",
   "metadata": {},
   "source": [
    "#### 백 트래킹 방식 문제 해결 \n",
    "\n",
    "- 실제로 트리를 그리지 않고, n*n의 배열을 만든 후 \n",
    "- 대각선, 같은 열, 같은 행 탐색을 시작 "
   ]
  },
  {
   "cell_type": "markdown",
   "id": "2abe2b74",
   "metadata": {},
   "source": [
    "### Promising for N Queen 문제\n",
    "- 해당 루트가 조건에 맞는지를 검사하는 기법을 활용하여,\n",
    "- 현재까지 앞선 행에서 배치한 퀸이 이동할 수 없는 위치가 있는지를 다음과 같은 조건으로 확인\n",
    "  - 한 행에 어차피 하나의 퀸만 배치 가능하므로 수평 체크는 별도로 필요하지 않음\n",
    "<img src=\"https://www.fun-coding.org/00_Images/nqueen.png\">"
   ]
  },
  {
   "cell_type": "code",
   "execution_count": 1,
   "id": "0d495c83",
   "metadata": {},
   "outputs": [],
   "source": [
    "def is_available(candidate,current_col):\n",
    "    current_row = len(candidate) #현재 행은 퀸의 개수 (한 행에 하나의 퀸이 있기 때문)\n",
    "    \n",
    "    for queen_row in range(current_row):\n",
    "        if candidate[queen_row]== current_col:\n",
    "            # 같은 열에 있는 경우\n",
    "            return False\n",
    "        if abs(candidate[queen_row]-current_col)==current_row-queen_row:\n",
    "            # 대각선에 있는 경우\n",
    "            return False\n",
    "    return True # 조건에 만족 (해당 위치에 퀸 넣기)\n",
    "\n",
    "#current_candidate : 기존 퀸의 배치 정보 \n",
    "def DFS(N,current_row,current_candidate,final_result):\n",
    "    if current_row ==N:#마지막 행\n",
    "        final_result.append(current_candidate[:]) #얇은 복사 \n",
    "        return  \n",
    "    for candidate_col in range(N):\n",
    "        if is_available(current_candidate,candidate_col):\n",
    "            current_candidate.append(candidate_col)\n",
    "            DFS(N, current_row+1,current_candidate,final_result)\n",
    "            current_candidate.pop() #다른 부분으로 이동 \n",
    "\n",
    "def solve_n_queens(N):\n",
    "    final_result =[]\n",
    "    DFS(N,0,[],final_result)\n",
    "    return final_result"
   ]
  },
  {
   "cell_type": "code",
   "execution_count": 2,
   "id": "2af1f3fa",
   "metadata": {},
   "outputs": [
    {
     "data": {
      "text/plain": [
       "[[1, 3, 0, 2], [2, 0, 3, 1]]"
      ]
     },
     "execution_count": 2,
     "metadata": {},
     "output_type": "execute_result"
    }
   ],
   "source": [
    "solve_n_queens(4)"
   ]
  },
  {
   "cell_type": "code",
   "execution_count": null,
   "id": "3c917556",
   "metadata": {},
   "outputs": [],
   "source": []
  }
 ],
 "metadata": {
  "kernelspec": {
   "display_name": "Python 3 (ipykernel)",
   "language": "python",
   "name": "python3"
  },
  "language_info": {
   "codemirror_mode": {
    "name": "ipython",
    "version": 3
   },
   "file_extension": ".py",
   "mimetype": "text/x-python",
   "name": "python",
   "nbconvert_exporter": "python",
   "pygments_lexer": "ipython3",
   "version": "3.9.12"
  }
 },
 "nbformat": 4,
 "nbformat_minor": 5
}

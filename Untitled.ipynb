{
 "cells": [
  {
   "cell_type": "code",
   "execution_count": 1,
   "id": "d5636f95",
   "metadata": {},
   "outputs": [
    {
     "name": "stdout",
     "output_type": "stream",
     "text": [
      "3\n",
      "3 17 1 39 8 41 2 32 99 2\n",
      "22 8 5 123 7 2 63 7 3 46\n",
      "6 63 2 3 58 76 21 33 8 1\n",
      "#1 200\n",
      "#2 208\n",
      "#3 121\n"
     ]
    }
   ],
   "source": [
    "T = int(input())\n",
    "a_sum = [0]*T\n",
    "for i in range(T):\n",
    "    a = list(map(int, input().split()))\n",
    "    for item in a:\n",
    "        if item % 2 == 1:\n",
    "            a_sum[i] += item\n",
    "for i in range(T):\n",
    "    print(\"#\" + str(i + 1), a_sum[i])"
   ]
  },
  {
   "cell_type": "code",
   "execution_count": null,
   "id": "2bbda442",
   "metadata": {},
   "outputs": [],
   "source": []
  }
 ],
 "metadata": {
  "kernelspec": {
   "display_name": "Python 3 (ipykernel)",
   "language": "python",
   "name": "python3"
  },
  "language_info": {
   "codemirror_mode": {
    "name": "ipython",
    "version": 3
   },
   "file_extension": ".py",
   "mimetype": "text/x-python",
   "name": "python",
   "nbconvert_exporter": "python",
   "pygments_lexer": "ipython3",
   "version": "3.9.12"
  }
 },
 "nbformat": 4,
 "nbformat_minor": 5
}

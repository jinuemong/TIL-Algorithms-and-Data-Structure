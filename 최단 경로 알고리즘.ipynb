{
 "cells": [
  {
   "cell_type": "markdown",
   "id": "2d45b6ff",
   "metadata": {},
   "source": [
    "### 최단 경로문제\n",
    "- 두 노드를 잇는 가장 짧은 경로를 찾는 문제\n",
    "- 가중치 그래프에서 간선의 가중치 합이 최소가 되도록 하는 경로를 찾는 것이 목적\n"
   ]
  },
  {
   "cell_type": "markdown",
   "id": "4e8fdefb",
   "metadata": {},
   "source": [
    "#### 최단 경로 문제 종류\n",
    "\n",
    "1. 단일 출발 및 단일 도착\n",
    "- 특정 노드 두개(u,v) 간에 가장 짧은 알고리즘\n",
    "2. 단일 출발 최단 경로 문제\n",
    "- 특정 노드(u)와 그래프 내 다른 모든 노드 각각의 가장 짧은 경로를 찾음\n",
    "3. 전체 쌍 최단 경로\n",
    "- 그래프 내의 모든 노드 쌍 (u,v)에 대한 최단 경로 찾음"
   ]
  },
  {
   "cell_type": "markdown",
   "id": "9ff3150f",
   "metadata": {},
   "source": [
    "### 다익스트라 알고리즘\n",
    "- 하나의 정점에서 다른 모든 정점 간의 각각 가장 짧은 거리를 구하는 법\n",
    "- 첫 정점을 기준으로 연결되어 있는 정점들을 추가해 가며 최단 거리를 갱신\n",
    "- 너비우선 탐색(BFS)와 유사"
   ]
  },
  {
   "cell_type": "markdown",
   "id": "a5f7933e",
   "metadata": {},
   "source": [
    "#### 우선순위 큐를 이용한 다익스트라 알고리즘\n",
    "- minHeap 방식을 활용, 현재 가장 짧은 거리를 가진 노드 정보를 먼저 꺼냄\n",
    "1. 첫 정점을 기준으로 배열을 선언하여 첫 정점에서 각 정점까지의 거리를 저장\n",
    "- 초기에는 첫 정점의 거리는 0 , 나머지는 무한대로 저장(inf라고 표현)\n",
    "- 우선순위 큐에 (첫 정점, 거리 0)을 먼저 넣음\n",
    "2. 우선순위 큐에서 노드를 꺼냄\n",
    "- 처음에는 첫 정점만 저장되어 있으므로 첫 정점이 꺼내짐 \n",
    "- 첫 정점에서 인접한 노드들 각각에 대해 첫 정점에서 각 노드로 가는 거리와 현재 \n",
    "  배열에 저장되어 있는 첫 정점에서 각 정점까지 거리를 비교한다\n",
    "- 배열에 저장되어 있는 거리보다 첫 정점에서 해당 노드로 가는 거리가 더 짧은 경우\n",
    "  배열에 해당 노드의 거리를 업데이트 한다.\n",
    "- 업데이트 된 경우 우선순위 큐에 넣는다.\n",
    "- 긴 거리를 가진 노드는 맨 마지막에 꺼내지도록 설계\n",
    "3. 2번의 과정을 우선순위 큐에서 꺼낼 노드가 없을 때까지 반복"
   ]
  },
  {
   "cell_type": "markdown",
   "id": "38a096ee",
   "metadata": {},
   "source": [
    "#### 파이썬으로 구현\n",
    "- heapq 라이브러리 활용\n",
    "- 데이터가 리스트 형태인 경우 0번 인덱스를 우선순위로 인지, 우선순위 낮은 대로 pop"
   ]
  },
  {
   "cell_type": "code",
   "execution_count": 5,
   "id": "6983383e",
   "metadata": {},
   "outputs": [
    {
     "name": "stdout",
     "output_type": "stream",
     "text": [
      "[[1, 'C'], [5, 'B'], [2, 'A'], [7, 'D']]\n",
      "[1, 'C']\n",
      "[2, 'A']\n",
      "[5, 'B']\n",
      "[7, 'D']\n"
     ]
    }
   ],
   "source": [
    "#힙 큐 연습\n",
    "import heapq\n",
    "queue = []\n",
    "heapq.heappush(queue,[2,'A'])\n",
    "heapq.heappush(queue,[5,'B'])\n",
    "heapq.heappush(queue,[1,'C'])\n",
    "heapq.heappush(queue,[7,'D'])\n",
    "print(queue)\n",
    "for index in range(len(queue)):\n",
    "    print(heapq.heappop(queue))\n",
    "#최소값이 우선 출력 됨"
   ]
  },
  {
   "cell_type": "code",
   "execution_count": 7,
   "id": "11bda821",
   "metadata": {},
   "outputs": [
    {
     "data": {
      "text/plain": [
       "{'A': {'B': 8, 'C': 1, 'D': 2},\n",
       " 'B': {},\n",
       " 'C': {'B': 5, 'D': 2},\n",
       " 'D': {'E': 3, 'F': 5},\n",
       " 'E': {'F': 1},\n",
       " 'F': {'A': 5}}"
      ]
     },
     "execution_count": 7,
     "metadata": {},
     "output_type": "execute_result"
    }
   ],
   "source": [
    "mygraph ={\n",
    "    'A' : {'B':8,'C':1,'D':2},\n",
    "    'B' : {},\n",
    "    'C' : {'B':5,'D':2},\n",
    "    'D' : {'E':3,'F':5},\n",
    "    'E' : {'F':1},\n",
    "    'F' : {'A':5},\n",
    "}\n",
    "mygraph"
   ]
  },
  {
   "cell_type": "code",
   "execution_count": 13,
   "id": "5d43f1df",
   "metadata": {},
   "outputs": [],
   "source": [
    "import heapq\n",
    "\n",
    "def diksta(graph,start): #그래프와 출발점을 받음\n",
    "    \n",
    "    #초기화 단계 start######################\n",
    "    distances = {node:float('inf') for node in graph}\n",
    "    #key의 각각의 값에 inf값을 넣어줌 (무한 값)\n",
    "    distances[start]= 0\n",
    "    queue =[]\n",
    "    \n",
    "    heapq.heappush(queue,[distances[start],start]) #값(거리), 키(노드명)형태로 넣음 \n",
    "    # 우선순위 큐는 0, 'A'와 같이 값이 앞으로와야 우선순위 구별\n",
    "    #초기화 단계 end#####################\n",
    "    \n",
    "    while queue:\n",
    "        current_distance , current_node = heapq.heappop(queue)\n",
    "        # 가장 우선순위가 높은(작은) 값을 꺼내옴 (값 , 키 순서로)\n",
    "        \n",
    "        if distances[current_node]<current_distance: #개선된 다익스트라\n",
    "            #최단거리보다 작다면 아래 문장을 실행할 필요가 없음 \n",
    "            continue\n",
    "        \n",
    "        for adjacent, weight in graph[current_node].items():\n",
    "            #해당 노드의 인접한 키 = adjacent, 거리 = weight 에 저장 \n",
    "            distance = current_distance + weight \n",
    "            # 이동거리 = 현재까지 거리 + 추가 거리 \n",
    "            \n",
    "            if distance < distances[adjacent]:\n",
    "                #지금 찾은 거리의 값이 기존 이동 경로보다 더 작다 = 최단거리 발견\n",
    "                distances[adjacent] = distance #값을 지금 찾은 거리로 변경\n",
    "                heapq.heqppush(queue,[distance,adjacent]) #값 , 키 형태로 넣어줌 push\n",
    "    return distances #모든 최단거리 출력"
   ]
  },
  {
   "cell_type": "markdown",
   "id": "876138bf",
   "metadata": {},
   "source": [
    "#### 시간 복잡도\n",
    "- 가장 시간이 많이 벌리는 최악의 경우를 고려\n",
    "1. 각 노드는 최대 한 번씩 방문하므로 그래프의 모든 간선은 최대 한 번씩 검사\n",
    "- O(E) 시간복잡도\n",
    "2. 우선순위 큐에 가장 많은 노드, 거리 정보가 들어가는 경우 \n",
    "- 모든 간선이 검사 될 때마다 배열의 최단거리 갱신 = 각 간선 마다 한번\n",
    "- O(ElogE)"
   ]
  },
  {
   "cell_type": "code",
   "execution_count": null,
   "id": "2831178f",
   "metadata": {},
   "outputs": [],
   "source": []
  }
 ],
 "metadata": {
  "kernelspec": {
   "display_name": "Python 3 (ipykernel)",
   "language": "python",
   "name": "python3"
  },
  "language_info": {
   "codemirror_mode": {
    "name": "ipython",
    "version": 3
   },
   "file_extension": ".py",
   "mimetype": "text/x-python",
   "name": "python",
   "nbconvert_exporter": "python",
   "pygments_lexer": "ipython3",
   "version": "3.9.12"
  }
 },
 "nbformat": 4,
 "nbformat_minor": 5
}

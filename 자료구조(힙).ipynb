{
 "cells": [
  {
   "cell_type": "markdown",
   "id": "b6e9cec1",
   "metadata": {},
   "source": [
    "### 힙 : 데이터에서 최대값과 최소값을 빠르게 찾기 위해 고안된 완전 이진 트리\n",
    "\n",
    "- 완전 이진 트리 : 노드를 삽입할 때 최하단 왼쪽 노드부터 차례대로 삽입\n",
    "- 힙 사용시 최대 최소 값을 찾으면 O(logn)이 걸림 *배열은 O(n)\n",
    "- 우선순위 큐와 같이 최대값 또는 최소값을 빠르게 찾아야 하는 자료구조에서 사용"
   ]
  },
  {
   "cell_type": "markdown",
   "id": "40bbac39",
   "metadata": {},
   "source": [
    "### 힙 (Heap)의 구조\n",
    "\n",
    "- 최대값을 구하기 위한 구조 : Max 힙 ,최대 힙\n",
    "- 최소값을 구하기 위한 구조 : Min 힙 ,최소 힙\n",
    "- 각 노드의 값은 해당 노드의 자식 노드가 가진 값보다 크거나 같다 (최대 힙)\n",
    "- 각 노드의 값은 해당 노드의 자식 노드가 가진 값보다 작거나 같다 (최소 힙)\n"
   ]
  },
  {
   "cell_type": "markdown",
   "id": "d4f95f81",
   "metadata": {},
   "source": [
    "### 힙과 이진 탐색 트리의 공통점과 차이점\n",
    "- 공통점 : 힙과 이진 탐색 트리는 모두 이진 트리이다\n",
    "- 차이점 : \n",
    "- 이진 탐색 트리는 왼쪽 자식 노드의 값이 가장 작음 - 부모노드 - 오른쪽 자식 순\n",
    "- 힙은 이진 탐색 트리의 조건인 자식 노드에서 작은 값은 왼쪽 , 큰 값은 오른쪽 조건 x \n",
    "\n",
    "\n",
    "-이진 탐색 트리는 탐색, 힙은 최대/최소값 검색을 위한 구조\n"
   ]
  },
  {
   "cell_type": "code",
   "execution_count": 4,
   "id": "e2dc18de",
   "metadata": {},
   "outputs": [
    {
     "data": {
      "application/javascript": [
       "IPython.notebook.set_autosave_interval(10000)"
      ]
     },
     "metadata": {},
     "output_type": "display_data"
    },
    {
     "name": "stdout",
     "output_type": "stream",
     "text": [
      "Autosaving every 10 seconds\n"
     ]
    }
   ],
   "source": [
    "%autosave 10"
   ]
  },
  {
   "cell_type": "markdown",
   "id": "caaeac2b",
   "metadata": {},
   "source": [
    "### 힙과 배열\n",
    "- 일반적으로 힙 구현 시 배열 자료구조를 활용\n",
    "- 배열은 인덱스 0번부터지만 힙 구현을 위해서 root 노드 인덱스 번호를 1로 지정\n",
    "- 부모 노드 인덱스 번호  = 자식 노드 인덱스 번호 // 2\n",
    "- 왼쪽   자식 노드 인덱스 번호 = 부모 노드 인덱스 번호 *2 \n",
    "- 오른쪽 자식 노드 인덱스 번호 = 부모 노드 인덱스 번호 *2 + 1"
   ]
  },
  {
   "cell_type": "code",
   "execution_count": 33,
   "id": "7e8c3210",
   "metadata": {},
   "outputs": [],
   "source": [
    "#이진 트리를 배열로 저장 \n",
    "class Heap:\n",
    "    def __init__(self,data):\n",
    "        self.heap_array = list()\n",
    "        self.heap_array.append(None) #첫 데이터를 인덱스 1로 설정 (인덱스 0 = None)\n",
    "        self.heap_array.append(data)\n",
    "    def move_up(self,inserted_idx): # 교체가 일어나야 하는지 판단하는 메서드\n",
    "        if inserted_idx <=1:\n",
    "            return False # 인덱스가 헤더 일시는 교체 x\n",
    "        parent_idx = inserted_idx//2\n",
    "        if self.heap_array[inserted_idx]>self.heap_array[parent_idx]:\n",
    "            return True\n",
    "        else:\n",
    "            return False \n",
    "        # 부모 노드가 더 커질때 까지 반복해서 바꿔줌\n",
    "    \n",
    "    #힙에 데이터 삽입\n",
    "    def insert(self,data):\n",
    "        if len(self.heap_array) == 0: #초기화\n",
    "            self.heap_array.append(None)\n",
    "            self.heap_array.append(data)\n",
    "            return True\n",
    "        self.heap_array.append(data)\n",
    "        \n",
    "        inserted_idx = len(self.heap_array) - 1\n",
    "        while self.move_up(inserted_idx):\n",
    "            parent_idx = inserted_idx //2 #현재 노드의 부모 노드 인덱스\n",
    "            self.heap_array[inserted_idx], self.heap_array[parent_idx] = self.heap_array[parent_idx],self.heap_array[inserted_idx] #swqp\n",
    "            \n",
    "            inserted_idx = parent_idx #부모 위치로 이동\n",
    "            \n",
    "        return True\n",
    "    \n",
    "    #힙의 데이터 삭제 (최상의 노드 삭제)\n",
    "    \n",
    "    def move_down(self,popped_idx):\n",
    "        left_child_popped_idx = popped_idx * 2 #왼쪽 자식 노드 검색\n",
    "        right_child_poped_idx = popped_idx * 2 + 1 #오른쪽 자식 노드 검색\n",
    "        \n",
    "        #case1 : 왼쪽 + 오른쪽 자식 노드가 없을 때\n",
    "        if left_child_popped_idx >= len(self.heap_array):\n",
    "            #왼쪽 인덱스 번호가 최종 인덱스보다 높으면 없다고 간주\n",
    "            #왼쪽이 인덱스가 없다면 오른쪽 인덱스도 없음 : 힙의 특징 \n",
    "            return False \n",
    "        #case2 : 오른쪽 자식 노드만 없을 때\n",
    "        elif right_child_poped_idx >= len(self.heap_array):\n",
    "            if self.heap_array[popped_idx] < self.heap_array[left_child_popped_idx]:\n",
    "                #자식 노드가 더 큼 -> 변경\n",
    "                return True\n",
    "            else:\n",
    "                return False\n",
    "        #case3 : 왼쪽 , 오른쪽 자식 노드 모두 있을 때\n",
    "        else:\n",
    "            if self.heap_array[left_child_popped_idx] > self.heap_array[right_child_poped_idx]:\n",
    "                #왼쪽이 더 큰 경우:  왼쪽과 부모를 비교\n",
    "                if self.heap_array[popped_idx] < self.heap_array[left_child_popped_idx]:\n",
    "                    return True\n",
    "                else:\n",
    "                    return False\n",
    "            else:\n",
    "                #오른쪽이 더 큰 경우 : 오른쪽과 부모를 비교\n",
    "                if self.heap_array[popped_idx] < self.heap_array[right_child_poped_idx]:\n",
    "                    return True\n",
    "                else:\n",
    "                    return False\n",
    "    def pop(self):\n",
    "        if len(self.heap_array)<=1:\n",
    "            return None\n",
    "        \n",
    "        returned_data = self.heap_array[1] #1번이 첫번째 데이터\n",
    "        #별도 삭제는 필요 없음  - 새로운 헤드로 덮어쓰기 때문\n",
    "        self.heap_array[1] = self.heap_array[-1] #마지막 데이터를 헤더로 이동\n",
    "        del self.heap_array[-1]\n",
    "        popped_idx = 1\n",
    "        \n",
    "        while self.move_down(popped_idx):\n",
    "            left_child_popped_idx = popped_idx * 2 #왼쪽 자식 노드 검색\n",
    "            right_child_poped_idx = popped_idx * 2 + 1 #오른쪽 자식 노드 검색\n",
    "            #case1 : 왼쪽 + 오른쪽 자식 노드가 없을 때\n",
    "            # -> 고려 x \n",
    "            \n",
    "            #case2 : 오른쪽 자식 노드만 없을 때\n",
    "            if right_child_poped_idx >= len(self.heap_array):\n",
    "                if self.heap_array[popped_idx] < self.heap_array[left_child_popped_idx]:\n",
    "                    #자식 노드가 더 큼 -> 변경\n",
    "                    self.heap_array[popped_idx] , self.heap_array[left_child_popped_idx] = self.heap_array[left_child_popped_idx],self.heap_array[popped_idx] \n",
    "                    # 왼쪽과 부모를  swap\n",
    "                    popped_idx = left_child_popped_idx\n",
    "                    \n",
    "            #case3 : 왼쪽 , 오른쪽 자식 노드 모두 있을 때\n",
    "            else:\n",
    "                if self.heap_array[left_child_popped_idx] > self.heap_array[right_child_poped_idx]:\n",
    "                    #왼쪽이 더 큰 경우:  왼쪽과 부모를 비교\n",
    "                    if self.heap_array[popped_idx] < self.heap_array[left_child_popped_idx]:\n",
    "                        self.heap_array[popped_idx] , self.heap_array[left_child_popped_idx] = self.heap_array[left_child_popped_idx],self.heap_array[popped_idx] \n",
    "                        # 왼쪽과 부모를  swap\n",
    "                        popped_idx = left_child_popped_idx\n",
    "                else:\n",
    "                    #오른쪽이 더 큰 경우 : 오른쪽과 부모를 비교\n",
    "                    if self.heap_array[popped_idx] < self.heap_array[right_child_poped_idx]:\n",
    "                        self.heap_array[popped_idx] , self.heap_array[right_child_poped_idx] = self.heap_array[right_child_poped_idx],self.heap_array[popped_idx] \n",
    "                        # 오른쪽과 부모를  swap\n",
    "                        popped_idx = right_child_poped_idx\n",
    "                            \n",
    "        return returned_data\n",
    "    "
   ]
  },
  {
   "cell_type": "code",
   "execution_count": 34,
   "id": "97162b8d",
   "metadata": {},
   "outputs": [
    {
     "data": {
      "text/plain": [
       "[None, 1]"
      ]
     },
     "execution_count": 34,
     "metadata": {},
     "output_type": "execute_result"
    }
   ],
   "source": [
    "heap = Heap(1)\n",
    "heap.heap_array"
   ]
  },
  {
   "cell_type": "code",
   "execution_count": 35,
   "id": "49321974",
   "metadata": {
    "scrolled": true
   },
   "outputs": [
    {
     "data": {
      "text/plain": [
       "[None, 20, 10, 15, 5, 4, 8]"
      ]
     },
     "execution_count": 35,
     "metadata": {},
     "output_type": "execute_result"
    }
   ],
   "source": [
    "heap = Heap(15)\n",
    "heap.insert(10)\n",
    "heap.insert(8)\n",
    "heap.insert(5)\n",
    "heap.insert(4)\n",
    "# 큰 수 입력 \n",
    "heap.insert(20)\n",
    "heap.heap_array"
   ]
  },
  {
   "cell_type": "code",
   "execution_count": 36,
   "id": "c811229b",
   "metadata": {},
   "outputs": [
    {
     "data": {
      "text/plain": [
       "20"
      ]
     },
     "execution_count": 36,
     "metadata": {},
     "output_type": "execute_result"
    }
   ],
   "source": [
    "heap.pop()"
   ]
  },
  {
   "cell_type": "code",
   "execution_count": 37,
   "id": "19e9dd91",
   "metadata": {},
   "outputs": [
    {
     "data": {
      "text/plain": [
       "[None, 15, 10, 8, 5, 4]"
      ]
     },
     "execution_count": 37,
     "metadata": {},
     "output_type": "execute_result"
    }
   ],
   "source": [
    "heap.heap_array"
   ]
  },
  {
   "cell_type": "code",
   "execution_count": 38,
   "id": "c1776b2e",
   "metadata": {},
   "outputs": [
    {
     "data": {
      "text/plain": [
       "15"
      ]
     },
     "execution_count": 38,
     "metadata": {},
     "output_type": "execute_result"
    }
   ],
   "source": [
    "heap.pop()"
   ]
  },
  {
   "cell_type": "code",
   "execution_count": 39,
   "id": "06073c03",
   "metadata": {},
   "outputs": [
    {
     "data": {
      "text/plain": [
       "10"
      ]
     },
     "execution_count": 39,
     "metadata": {},
     "output_type": "execute_result"
    }
   ],
   "source": [
    "heap.pop()"
   ]
  },
  {
   "cell_type": "code",
   "execution_count": 40,
   "id": "070589bb",
   "metadata": {},
   "outputs": [
    {
     "data": {
      "text/plain": [
       "[None, 8, 5, 4]"
      ]
     },
     "execution_count": 40,
     "metadata": {},
     "output_type": "execute_result"
    }
   ],
   "source": [
    "heap.heap_array"
   ]
  },
  {
   "cell_type": "markdown",
   "id": "db82c794",
   "metadata": {},
   "source": [
    "### 힙 시간 복잡도\n",
    "- 최악의 경우 루트 노드에서 leaf 노드까지 비교해야 하므로 h = log2n에 가까움 O(logn)\n",
    "- 한번 실행마다 50%의 실행 할 수 있는 명령을 제거함"
   ]
  },
  {
   "cell_type": "code",
   "execution_count": null,
   "id": "54526d42",
   "metadata": {},
   "outputs": [],
   "source": []
  }
 ],
 "metadata": {
  "kernelspec": {
   "display_name": "Python 3 (ipykernel)",
   "language": "python",
   "name": "python3"
  },
  "language_info": {
   "codemirror_mode": {
    "name": "ipython",
    "version": 3
   },
   "file_extension": ".py",
   "mimetype": "text/x-python",
   "name": "python",
   "nbconvert_exporter": "python",
   "pygments_lexer": "ipython3",
   "version": "3.9.12"
  }
 },
 "nbformat": 4,
 "nbformat_minor": 5
}

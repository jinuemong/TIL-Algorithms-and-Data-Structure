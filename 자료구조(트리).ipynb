{
 "cells": [
  {
   "cell_type": "markdown",
   "id": "5cde2760",
   "metadata": {},
   "source": [
    "## 이진 트리 : 모든 노드들의 자식 노드가 두 개 이하인 트리\n",
    "\n",
    "- 왼쪽 자식 노드는 부모 노드보다 작고 오른쪽 자식 노드는 부모 노드보다 크다\n",
    "- 트리중 이진 트리 형태는 탐색(검색) 알고리즘에서 최고의 효율을 보여줌\n",
    "- 한쪽으로 자식노드가 치우친 경우에는 최악의 알고리즘 (=링크드 리스크)를 보여줌"
   ]
  },
  {
   "cell_type": "code",
   "execution_count": 46,
   "id": "611a4106",
   "metadata": {},
   "outputs": [],
   "source": [
    "#노드 클래스 제작 \n",
    "class Node:\n",
    "    def __init__(self,value):\n",
    "        self.value  = value\n",
    "        self.left  = None\n",
    "        self.right = None\n",
    "        \n",
    "#Node 관리\n",
    "class NodeMgmt:\n",
    "    def __init__(self,head):\n",
    "        self.head = head\n",
    "        \n",
    "    def insert(self,value): #추가\n",
    "        self.current_node = self.head\n",
    "        while True:\n",
    "            if value < self.current_node.value:\n",
    "                if self.current_node.left!=None: #이미 노드가 있다면\n",
    "                    self.current_node = self.current_node.left\n",
    "                else:\n",
    "                    self.current_node.left = Node(value)\n",
    "                    break\n",
    "            else: #오른쪽으로 이동 \n",
    "                if self.current_node.right!=None:\n",
    "                    self.current_node = self.current_node.right\n",
    "                else:\n",
    "                    self.current_node.right = Node(value)\n",
    "                    break\n",
    "    def search(self, value): #탐색\n",
    "        self.current_node = self.head\n",
    "        while self.current_node:\n",
    "            if self.current_node.value == value:\n",
    "                return True #탐색 성공 시 리턴\n",
    "            elif value < self.current_node.value:\n",
    "                self.current_node = self.current_node.left\n",
    "            else:\n",
    "                self.current_node = self.current_node.right\n",
    "        return False # 탐색 실패 \n",
    "    def delete(self,value):\n",
    "        searched = False #해당 트리에 값이 있는지 확인\n",
    "        self.current=_node = self.head\n",
    "        self.parent = self.head\n",
    "        while self.current_node:\n",
    "            if self.current_node.value == value:\n",
    "                searched = True\n",
    "                break\n",
    "            elif value < self.current_node.value:\n",
    "                self.parent = self.current_node\n",
    "                self.current_node = self.current_node.left\n",
    "            else:\n",
    "                self.parent = self.current_node\n",
    "                self.curent_node = self.current_node.right\n",
    "        \n",
    "        if searched == False:\n",
    "            return False\n",
    "        else:\n",
    "            # 경우 1 말단 노드 삭제\n",
    "            if self.current_node.left == None and self.current_node.left == None:\n",
    "                if value < self.parent.value:\n",
    "                    self.parent.left = None\n",
    "                else:\n",
    "                    self.parent.right = None\n",
    "                del self.current_node\n",
    "                return True\n",
    "            \n",
    "            # 경우 2 삭제할 노드가 자식 노드를 하나만 가짐\n",
    "            # 경우 2-1 삭제할 노드가 자식 노드를 왼쪽으로 가짐\n",
    "            elif self.current_node.left != None and self.current_node.right == None:\n",
    "                #경우 2-1-1 삭제할 노드가 부모의 왼쪽에 있는 경우\n",
    "                if value < self.parent.value:\n",
    "                    self.parent.left = self.current_node.left\n",
    "                #경우 2-1-2 삭제할 노드가 부모의 오른쪽에 있는 경우\n",
    "                else:\n",
    "                    self.parent.right = self.current_node.left\n",
    "             # 경우 2-2 삭제할 노드가 자식 노드를 오른쪽으로 가짐\n",
    "            elif self.current_node.left == None and self.current_node.right != None:\n",
    "                #경우 2-2-1 삭제할 노드가 부모의 왼쪽에 있는 경우\n",
    "                if value < self.parent.vlaue:\n",
    "                    self.parent.left = self.current_node.right\n",
    "                #경우 2-2-2 삭제할 노드가 부모의 오른쪽에 있는 경우\n",
    "                else:\n",
    "                    self.parent.right = self.current_node.left\n",
    "            \n",
    "            # 경우 3 삭제할 노드가 자식 노드를 두개 가짐\n",
    "            if self.current_node.left!= None and self.current_node.right!=None: \n",
    "                #경우 3-1 삭제할 노드가 부모의 왼쪽에 존재\n",
    "                if value < self.parent.value: \n",
    "                    self.change_node = self.current_node.right #여기부터 순회\n",
    "                    self.change_node_parent = self.current_node.right #여기부터 부모\n",
    "                    #변경할 노드의 부모가 변경할 노드의 자식이 되어야 함 (값 임시 저장)\n",
    "                    while self.change_node.left!=None: #가장 작은 값 탐색\n",
    "                        self.change_node_parent = self.change_node\n",
    "                        self.change_node = self.change_node.left\n",
    "                    if self.chagne_node.right != None:\n",
    "                        #오른쪽 값 존재 시 오른쪽 값을 왼쪽 값으로 변경\n",
    "                        self.change_node_parent.left = self.change_node.right\n",
    "                    else: #오른쪽 값 없을 시 None\n",
    "                        self.change_node_parent.left=None\n",
    "                    self.parent.left = self.change_node\n",
    "                    #기존 노드의 값 왼쪽으로 저장 \n",
    "                    #기존 노드의 자식들을 연결 \n",
    "                    self.change_node.right = self.current_node.right\n",
    "                    self.change_node.left = self.current_node.left\n",
    "                #경우 3-2 삭제할 노드가 부모의 오른쪽 존재\n",
    "                else:\n",
    "                    self.change_node = self.current_node.right #여기부터 순회\n",
    "                    self.change_node_parent = self.current_node.right #여기부터 부모\n",
    "                    #변경할 노드의 부모가 변경할 노드의 자식이 되어야 함 (값 임시 저장)\n",
    "                    while self.change_node.left!=None: #가장 작은 값 탐색\n",
    "                        self.change_node_parent = self.change_node\n",
    "                        self.change_node = self.change_node.left\n",
    "                    if self.chagne_node.right != None:\n",
    "                        #오른쪽 값 존재 시 오른쪽 값을 왼쪽 값으로 변경\n",
    "                        self.change_node_parent.left = self.change_node.right\n",
    "                    else: #오른쪽 값 없을 시 None\n",
    "                        self.change_node_parent.left=None\n",
    "                    self.parent.right = self.change_node\n",
    "                    #기존 노드의 값 오른쪽으로 저장 \n",
    "                    #기존 노드의 자식들을 연결 \n",
    "                    self.change_node.right = self.current_node.right\n",
    "                    self.change_node.left = self.current_node.left\n",
    "        return True\n",
    "        "
   ]
  },
  {
   "cell_type": "markdown",
   "id": "16e16a0f",
   "metadata": {},
   "source": [
    "#### 이진 탐색 트리 추가"
   ]
  },
  {
   "cell_type": "code",
   "execution_count": 43,
   "id": "45aa7d48",
   "metadata": {},
   "outputs": [],
   "source": [
    "head = Node(1)\n",
    "BST = NodeMgmt(head)\n",
    "BST.insert(2)"
   ]
  },
  {
   "cell_type": "markdown",
   "id": "5759a8b2",
   "metadata": {},
   "source": [
    "#### 이진 탐색 트리 탐색"
   ]
  },
  {
   "cell_type": "code",
   "execution_count": 14,
   "id": "a3d01113",
   "metadata": {},
   "outputs": [],
   "source": [
    "head = Node(1)\n",
    "BST = NodeMgmt(head)\n",
    "for index in range(2,7):\n",
    "    BST.insert(index)"
   ]
  },
  {
   "cell_type": "code",
   "execution_count": 15,
   "id": "4a20c92a",
   "metadata": {},
   "outputs": [
    {
     "data": {
      "text/plain": [
       "True"
      ]
     },
     "execution_count": 15,
     "metadata": {},
     "output_type": "execute_result"
    }
   ],
   "source": [
    "BST.search(6) #데이터 존재 확인 "
   ]
  },
  {
   "cell_type": "markdown",
   "id": "4971cfb7",
   "metadata": {},
   "source": [
    "#### 이진 탐색 트리의 삭제 (매우 복잡)\n",
    "\n",
    "1. Leaf Node 삭제 (말단 노드)\n",
    "- 삭제할 노드의 부모노드가 더이상 삭제할 노드를 가리키지 않도록 함\n",
    "\n",
    "2. Child Node가 하나인 Node 삭제  \n",
    "- 삭제할 Node의 Parent Node가 삭제할 Node의 Child Node를 가리키게 함\n",
    "\n",
    "3. Child Node가 두개인 Node 삭제\n",
    "- 삭제할 Node의 오른쪽 자식 중 가장 작은 값을 삭제할 Node의 Parent Node가 가리키게 하는 경우\n",
    "- 1. 삭제할 노드의 오른쪽 자식 선택\n",
    "- 2. 오른쪽 자식의 왼쪽에 있는 노드 선택\n",
    "- 3. 해당 노드를 삭제할 노드의 부모 노드의 왼쪽 Branch가 가리키게 함\n",
    "- 4. 해당 노드의 왼쪽 Branch가 삭제할 노드의 왼쪽 자식 노드를 가리키게 함\n",
    "- 5. 해당 노드의 오른쪽 Branch가 삭제할 노드의 오른쪽 자식 노드를 가리키게 함\n",
    "- 6. 만약 해당 노드가 오른쪽 자식 노드를 가질 경우, 해당 노드의 본래 부모 노드의 왼쪽 Branch가 해당 오른쪽 자식 노드를 가리키게 함\n",
    "\n",
    "- 삭제할 Node의   왼쪽 자식 중 가장   큰 값을 삭제할 Node의 Parent Node가 가리키게 함"
   ]
  },
  {
   "cell_type": "code",
   "execution_count": 21,
   "id": "25cd4a35",
   "metadata": {},
   "outputs": [
    {
     "ename": "SyntaxError",
     "evalue": "invalid syntax (2187092699.py, line 3)",
     "output_type": "error",
     "traceback": [
      "\u001b[1;36m  Input \u001b[1;32mIn [21]\u001b[1;36m\u001b[0m\n\u001b[1;33m    1.삭제할 노드 탐색\u001b[0m\n\u001b[1;37m      ^\u001b[0m\n\u001b[1;31mSyntaxError\u001b[0m\u001b[1;31m:\u001b[0m invalid syntax\n"
     ]
    }
   ],
   "source": [
    "# def delete(self,value) - delete 코드 삭제 연습 (선택)\n",
    "\n",
    "1.삭제할 노드 탐색 \n",
    " searched = False #해당 트리에 값이 있는지 확인\n",
    " self.current_node = self.head\n",
    " self.parent = self.haed #삭제할 노드의 부모노드 지칭\n",
    " while self.current_node: \n",
    "    if self.current_node.value == value:\n",
    "        searched = True\n",
    "        break\n",
    "    elif value < self.current_node.value:\n",
    "        self.parent = self.current_node\n",
    "        self.current_node = self.current_node.left\n",
    "    else:\n",
    "        self.parent = self.current_node\n",
    "        self.current_node = self.current_node.right\n",
    " #실패한 경우 : 탐색 실패 (False)\n",
    " if searched == False:\n",
    "    return False\n",
    " #성공한 경우 :  self.parent에는 찾은 노드의 부모 저장 \n",
    "                #self.current_node에는 찾은 노드 저장 \n",
    "\n",
    "####이후부터 Case들을 분리해서 코드 작성\n"
   ]
  },
  {
   "cell_type": "code",
   "execution_count": null,
   "id": "0b425c82",
   "metadata": {},
   "outputs": [],
   "source": [
    "# def delete(self,value) - delete 코드 삭제 연습 (경우1)\n",
    "# 말단 노드 삭제 \n",
    "# self.current_node가 삭제할 Node, self.parent는 삭제할 노드의 부모 노드\n",
    "if self.current_node.left == None and self.current_node.right == None:\n",
    "    if value <self.parent.value:\n",
    "        self.parent.left =None\n",
    "    else:\n",
    "        self.parent.right = None\n",
    "    del self.current_node"
   ]
  },
  {
   "cell_type": "code",
   "execution_count": null,
   "id": "5a5fbea5",
   "metadata": {},
   "outputs": [],
   "source": [
    "# def delete(self,value) - delete 코드 삭제 연습 (경우2)\n",
    "# 삭제할 노드가 자식 노드를 하나만 가지고 있는 경우 \n",
    "# 이는 삭제할 노드가 자식 노드를 왼쪽으로 가질 경우, 오른쪽으로 가질 경우 2가지 \n",
    "# 또 삭제할 노드가 부모 노드의 왼쪽에 있을 경우, 오른쪽에 있을 경우 2가지\n",
    "# 2*2  = 4 총 4가지 경우의 수 \n",
    "# 경우 2-1\n",
    "if self.current_node.left != None and self.current_node.right == None:\n",
    "    #경우 2-1-1 삭제할 노드가 자식 노드를 왼쪽으로 가질 경우\n",
    "    if value < self.parent.value: #삭제할 노드가 왼쪽에 있음\n",
    "        self.parent.left = self.current_node.left\n",
    "    #경우 2-1-2\n",
    "    else: #삭제할 노드가 오른쪽에 있음\n",
    "        self.parent.right = self.current_node.left\n",
    "#경우 2-2\n",
    "elif self.current_ndoe.left == None and self.current_node.right!=None:\n",
    "    #경우 2-2-1 삭제할 노드가 자식 노드를 오른쪽으로 가질 경우\n",
    "    if value < self.parent.value: #삭제할 노드가 왼쪽에 있음\n",
    "        self.parent.left = self.current_node.right\n",
    "    #경우 2-1-2\n",
    "    else: #삭제할 노드가 오른쪽에 있음\n",
    "        self.parent.right = self.current_node.right\n",
    "        \n",
    "        \n",
    "        \n"
   ]
  },
  {
   "cell_type": "code",
   "execution_count": 2,
   "id": "f0fcbed5",
   "metadata": {},
   "outputs": [
    {
     "data": {
      "application/javascript": [
       "IPython.notebook.set_autosave_interval(10000)"
      ]
     },
     "metadata": {},
     "output_type": "display_data"
    },
    {
     "name": "stdout",
     "output_type": "stream",
     "text": [
      "Autosaving every 10 seconds\n"
     ]
    }
   ],
   "source": [
    "%autosave 10"
   ]
  },
  {
   "cell_type": "code",
   "execution_count": null,
   "id": "a1bd11da",
   "metadata": {},
   "outputs": [],
   "source": [
    "# def delete(self,value) - delete 코드 삭제 연습 (경우3 )\n",
    "# 삭제할 노드가 자식 노드를 두개 가지고 있는 경우 \n",
    "# 그 중에서 삭제할 노드가 부모 노드의 왼쪽에 존재 (경우 3-1 )\n",
    "if self.current_node.left!= None and self.current_node.right!=None: #경우3\n",
    "    if value < self.parent.value: # 경우 3-1\n",
    "        self.change_node = self.current_node.right #여기부터 순회\n",
    "        self.change_node_parent = self.current_node.right \n",
    "        #변경할 노드의 부모가 변경할 노드의 자식이 되어야함(때문에 값 저장)\n",
    "        while self.change_node.left !=None: #가장 작은 값 찾기\n",
    "            self.change_node_parent = self.change_node\n",
    "            self.change_node = self.change_node.left\n",
    "        self.change_node_parent.left = None\n",
    "        if self.change_node.right !=None: #오른쪽 값 존재시 왼쪽 값으로 변경\n",
    "            self.change_node_parent.left = self.change_node.right\n",
    "        else:\n",
    "            self.change_node_parent.left = None\n",
    "        self.parent.left = self.change_node\n",
    "        self.change_node.right = self.current_node.right\n",
    "        self.change_node.left = self.current_node.left\n",
    "            \n",
    "        "
   ]
  },
  {
   "cell_type": "code",
   "execution_count": null,
   "id": "349e3ad6",
   "metadata": {},
   "outputs": [],
   "source": [
    "# def delete(self,value) - delete 코드 삭제 연습 (경우3 )\n",
    "# 삭제할 노드가 자식 노드를 두개 가지고 있는 경우 \n",
    "# 그 중에서 삭제할 노드가 부모 노드의 오른쪽에 존재 (경우 3-2 )\n",
    "else:\n",
    "    self.change_node = self.current_node.right\n",
    "    self.change_node_parent = self.current_node.right\n",
    "    while self.change_node.left != None:\n",
    "        self.change_node_parent = self.change_node\n",
    "        self.change_node = self.change_node.left\n",
    "    if self.change_node.right != None: #오른쪽 값 존재 시 왼쪽 값으로 변경 \n",
    "        self.change_node_parent.left = self.change_node.right\n",
    "    else:\n",
    "        self.change_node_parent.left = None\n",
    "    self.parent.right = self.change_node\n",
    "    self.change_node.right = self.current_node.right\n",
    "    self.change_node.left = self.current_node.left\n",
    "    "
   ]
  },
  {
   "cell_type": "code",
   "execution_count": 47,
   "id": "37d3c92c",
   "metadata": {},
   "outputs": [],
   "source": [
    "# 1~1000 숫자 중에서 임의로 100개를 추출하여 이진 탐색 트리에 입력, 검색, 삭제\n",
    "import random\n",
    "\n",
    "# 1 ~1000 중 100 개의 숫자 랜덤 선택\n",
    "bst_nums = set() #중복 배제를 위한 set\n",
    "while len(bst_nums)!=100:\n",
    "    bst_nums.add(random.randint(0,999)+1)\n",
    "# 선택된 100개의 숫자를 이진 탐색 트리에 입력, 임의로 루트 노드는 500을 넣기로 함 (중간값)\n",
    "head = Node(500)\n",
    "binary_tree = NodeMgmt(head)\n",
    "for num in bst_nums:\n",
    "    binary_tree.insert(num)\n",
    "\n",
    "#입력한 100개의 숫자 검색 (검색 기능 확인)\n",
    "for num in bst_nums:\n",
    "    if binary_tree.search(num) == False:\n",
    "        print('search faile...',num)"
   ]
  },
  {
   "cell_type": "code",
   "execution_count": null,
   "id": "de6bc066",
   "metadata": {},
   "outputs": [],
   "source": [
    "#입력한 100개의 숫자 중 10개의 숫자를 랜덤 선택\n",
    "delete_nums = set()\n",
    "bst_nums = list(bst_nums) #인덱스로 접근할 수 있도록 변환\n",
    "while len(delete_nums)!=10: #10개의 데이터만 들어가도록 반복\n",
    "    delete_nums.add(bst_nums[random.randint(0,99)]) #중복되지 않도록 뽑기(인덱스로)\n",
    "\n",
    "#선택한 10개의 숫자를 삭제 (삭제 기능 확인)\n",
    "for del_num in delete_nums:\n",
    "    if binary_tree.delete(del_num) == False:\n",
    "        print(\"delete failed\",del_num)"
   ]
  },
  {
   "cell_type": "code",
   "execution_count": null,
   "id": "b81c9081",
   "metadata": {},
   "outputs": [],
   "source": []
  }
 ],
 "metadata": {
  "kernelspec": {
   "display_name": "Python 3 (ipykernel)",
   "language": "python",
   "name": "python3"
  },
  "language_info": {
   "codemirror_mode": {
    "name": "ipython",
    "version": 3
   },
   "file_extension": ".py",
   "mimetype": "text/x-python",
   "name": "python",
   "nbconvert_exporter": "python",
   "pygments_lexer": "ipython3",
   "version": "3.9.12"
  }
 },
 "nbformat": 4,
 "nbformat_minor": 5
}

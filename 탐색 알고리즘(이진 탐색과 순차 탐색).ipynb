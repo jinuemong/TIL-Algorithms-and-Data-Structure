{
 "cells": [
  {
   "cell_type": "markdown",
   "id": "32257c1d",
   "metadata": {},
   "source": [
    "###  분할 정복 알고리즘과 이진 탐색\n",
    "\n",
    "1. 분할 정복 알고리즘\n",
    "- Divide : 문제를 하나 또는 둘 이상으로 나눔\n",
    "- Conquer : 나눠진 문제가 충분히 작고, 해결 가능하다면 해결하고, 그렇지 않으면 다시 나눔\n",
    "\n",
    "2. 이진 탐색\n",
    "- Divide : 리스트를 두 개의 서브 리스트로 나눔 \n",
    "- Comquer : 검색할 숫자 > 중간값 - 뒷 부분 리스트 탐색\n",
    "            검색할 숫자 < 중간값 - 앞 부분 리스트 탐색"
   ]
  },
  {
   "cell_type": "markdown",
   "id": "8d3f15a6",
   "metadata": {},
   "source": [
    "####  알고리즘 구현"
   ]
  },
  {
   "cell_type": "code",
   "execution_count": 5,
   "id": "75a89ea0",
   "metadata": {},
   "outputs": [],
   "source": [
    "def binary_search(data, search):\n",
    "    print(data)\n",
    "    if len(data) == 1 and search ==data[0]:\n",
    "        return True #데이터 찾음\n",
    "    if len(data)== 1 and search != data[0]:\n",
    "        return False\n",
    "    if len(data)== 0:\n",
    "        return False\n",
    "    medium = len(data)//2 \n",
    "    if search == data[medium]:\n",
    "        return True\n",
    "    else:\n",
    "        if search > data[medium]: #뒷부분\n",
    "            return binary_search(data[medium:],search)\n",
    "        else: #앞 부분\n",
    "            return binary_search(data[:medium],search)\n",
    "            "
   ]
  },
  {
   "cell_type": "code",
   "execution_count": 6,
   "id": "e5b07cfd",
   "metadata": {},
   "outputs": [
    {
     "data": {
      "text/plain": [
       "[72, 47, 8, 79, 57, 69, 56, 16, 48, 13]"
      ]
     },
     "execution_count": 6,
     "metadata": {},
     "output_type": "execute_result"
    }
   ],
   "source": [
    "import random\n",
    "data_list = random.sample(range(100),10)\n",
    "data_list"
   ]
  },
  {
   "cell_type": "code",
   "execution_count": 7,
   "id": "739a41f5",
   "metadata": {},
   "outputs": [
    {
     "name": "stdout",
     "output_type": "stream",
     "text": [
      "[72, 47, 8, 79, 57, 69, 56, 16, 48, 13]\n",
      "[72, 47, 8, 79, 57]\n",
      "[8, 79, 57]\n",
      "[8]\n"
     ]
    },
    {
     "data": {
      "text/plain": [
       "False"
      ]
     },
     "execution_count": 7,
     "metadata": {},
     "output_type": "execute_result"
    }
   ],
   "source": [
    "binary_search(data_list,19)"
   ]
  },
  {
   "cell_type": "markdown",
   "id": "7a5f0ca1",
   "metadata": {},
   "source": [
    "#### 알고리즘 분석\n",
    "\n",
    "- 데이터를 매번 2로 나누어 1이 될 때까지 비교연산을 k회 진행\n",
    "- 빅 오 표기법으로는 k + 1 이 결국 최종 시간 복잡도임 \n",
    "- 결국 O(log2n + 1) 이고 , 2와 1, 상수는 삭제 , O(logn)"
   ]
  },
  {
   "cell_type": "markdown",
   "id": "b749dee8",
   "metadata": {},
   "source": [
    "### 탐색 알고리즘 : 순차 탐색 (Sequential Search)\n",
    "\n",
    "- 탐색은 여러 데이터 중 원하는 데이터를 찾음, 리스트를 앞에서부터 찾는 방식\n"
   ]
  },
  {
   "cell_type": "code",
   "execution_count": 12,
   "id": "b2a5e492",
   "metadata": {},
   "outputs": [],
   "source": [
    "def sequential(data_list , search_data):\n",
    "    for index in range(len(data_list)):\n",
    "        if data_list[index] ==search_data:\n",
    "            return index\n",
    "    return -1"
   ]
  },
  {
   "cell_type": "code",
   "execution_count": 15,
   "id": "8c6ebde1",
   "metadata": {
    "scrolled": false
   },
   "outputs": [
    {
     "data": {
      "text/plain": [
       "[89, 41, 72, 24, 60, 17, 94, 62, 73, 95]"
      ]
     },
     "execution_count": 15,
     "metadata": {},
     "output_type": "execute_result"
    }
   ],
   "source": [
    "from random import *\n",
    "\n",
    "rand_data_list = list()\n",
    "for n in range(10):\n",
    "    rand_data_list.append(randint(1,100))\n",
    "rand_data_list"
   ]
  },
  {
   "cell_type": "code",
   "execution_count": 19,
   "id": "b3344523",
   "metadata": {},
   "outputs": [
    {
     "name": "stdout",
     "output_type": "stream",
     "text": [
      "0 번 째 인덱스\n"
     ]
    }
   ],
   "source": [
    "print(sequential(rand_data_list,89),\"번 째 인덱스\")"
   ]
  },
  {
   "cell_type": "markdown",
   "id": "98b837e3",
   "metadata": {},
   "source": [
    "#### 알고리즘 분석\n",
    "\n",
    "- 최악의 경우 리스트 길이가 n일 때, n번 비교 = O(n)"
   ]
  },
  {
   "cell_type": "code",
   "execution_count": 22,
   "id": "5888742f",
   "metadata": {},
   "outputs": [
    {
     "name": "stdout",
     "output_type": "stream",
     "text": [
      "1\n",
      "1\n",
      "0\n",
      "0\n",
      "1\n"
     ]
    }
   ],
   "source": [
    "N = 5 \n",
    "N_list = [4,1,5,2,3]\n",
    "m = 5\n",
    "M_list = [1,3,7,9,5]\n",
    "for item in M_list:\n",
    "    if item in N_list:\n",
    "        print(1)\n",
    "    else:\n",
    "        print(0)"
   ]
  },
  {
   "cell_type": "markdown",
   "id": "924fb741",
   "metadata": {},
   "source": [
    "####  코딩 문제\n"
   ]
  },
  {
   "cell_type": "code",
   "execution_count": 24,
   "id": "dca96544",
   "metadata": {},
   "outputs": [
    {
     "name": "stdout",
     "output_type": "stream",
     "text": [
      "1\n",
      "1\n",
      "0\n",
      "0\n",
      "1\n"
     ]
    }
   ],
   "source": [
    "#위보다 적은 시간 복잡도\n",
    "N_list.sort()\n",
    "\n",
    "def binary_search(value,start,end):\n",
    "    if start > end:\n",
    "        return False\n",
    "    \n",
    "    median = (start+end)//2\n",
    "    if N_list[median]>value:\n",
    "        return binary_search(value,start,median-1)\n",
    "    elif N_list[median]<value:\n",
    "        return binary_search(value,median+1,end)\n",
    "    else:\n",
    "        return True\n",
    "for item in M_list:\n",
    "    if binary_search(item,0,N-1):\n",
    "        print(1)\n",
    "    else:\n",
    "        print(0)"
   ]
  }
 ],
 "metadata": {
  "kernelspec": {
   "display_name": "Python 3 (ipykernel)",
   "language": "python",
   "name": "python3"
  },
  "language_info": {
   "codemirror_mode": {
    "name": "ipython",
    "version": 3
   },
   "file_extension": ".py",
   "mimetype": "text/x-python",
   "name": "python",
   "nbconvert_exporter": "python",
   "pygments_lexer": "ipython3",
   "version": "3.9.12"
  }
 },
 "nbformat": 4,
 "nbformat_minor": 5
}

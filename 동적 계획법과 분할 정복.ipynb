{
 "cells": [
  {
   "cell_type": "markdown",
   "id": "a4e68a73",
   "metadata": {},
   "source": [
    "## 동적 계획법\n",
    "\n",
    "1. 정의\n",
    "- [동적계획법 : DP]\n",
    "- 입력 크기가 작은 부분 문제들을 해결한 후 해당 부분 문제의 해를 활용하여,\n",
    "  보다 큰 크기의 부분 문제를 해결, 최종적으로 전체 문제를 해결하는 알고리즘\n",
    "- Memoization 기법 사용 : 프로그램 실행 시 이전에 계산한 값을 저장, 다시 계산하지\n",
    "  않도록 하여 전체 실행 속도 개선 (ex 피보나치 수열)\n",
    "-   \n",
    "- [분할 정복]\n",
    "- 문제를 나눌 수 없을 때가지 나누어서 각각 풀면서 합병\n",
    "- 하양식 접근법으로 상위의 해답을 구하기 위해 아래로 내려가면서 하위의 해답을 구하는   방식\n",
    "- 잘게 쪼갠 부분 문제들은 서로 중복되지 않음\n",
    "- (ex 병합 정렬, 퀵 정렬)\n",
    "- \n",
    "2. 공통점과 차이점\n",
    "- 공통점 : 문제를 잘게 쪼개서 작은 단위로 분할\n",
    "-\n",
    "- 차이점 : 동적 계획법은 중복 가능, 상위 문제 해결 시 재활용 , 분할 정복은 부분 문제            는 서로 중복되지 않음\n",
    "- Memoization 기법 사용 / 미사용"
   ]
  },
  {
   "cell_type": "markdown",
   "id": "5e79f65f",
   "metadata": {},
   "source": [
    "#### 프로그래밍 연습 \n",
    "- 피보나치 수열 : n을 입력받아서 계산\n",
    "- F(n)  = { 0                if n = 0\n",
    "          { 1                if n = 1 \n",
    "          { F(n-1) + F(n-2)  if n > 1"
   ]
  },
  {
   "cell_type": "markdown",
   "id": "9649f02d",
   "metadata": {},
   "source": [
    "#### recursive call 활용"
   ]
  },
  {
   "cell_type": "code",
   "execution_count": 1,
   "id": "be42b307",
   "metadata": {},
   "outputs": [],
   "source": [
    "def fibo(n):\n",
    "    if n<=1:\n",
    "        return n\n",
    "    return fibo(n-1)+fibo(n-2)"
   ]
  },
  {
   "cell_type": "markdown",
   "id": "d0572fef",
   "metadata": {},
   "source": [
    "## 동적 계획법(상향식)"
   ]
  },
  {
   "cell_type": "code",
   "execution_count": 1,
   "id": "f1dd6b19",
   "metadata": {},
   "outputs": [],
   "source": [
    "def fibo_dp(n):\n",
    "    cache = [0 for index in range(n+1)]\n",
    "    cache[0] = 0 \n",
    "    cache[1] = 1\n",
    "    \n",
    "    for index in range(2,n+1):\n",
    "        cache[index] = cache[index-1] + cache[index-2]\n",
    "    return cache[n]"
   ]
  },
  {
   "cell_type": "code",
   "execution_count": 3,
   "id": "8db90a18",
   "metadata": {},
   "outputs": [
    {
     "data": {
      "text/plain": [
       "55"
      ]
     },
     "execution_count": 3,
     "metadata": {},
     "output_type": "execute_result"
    }
   ],
   "source": [
    "fibo_dp(10)"
   ]
  },
  {
   "cell_type": "markdown",
   "id": "e42f3d0c",
   "metadata": {},
   "source": [
    "#### 점화식\n",
    "- 이웃하는 두개의 항 사이에 성립하는 관계를 나타낸 관계식을 의미함\n",
    "- ex> dp[n+2] = dp[n+1] + dp[n+2]\n",
    "\n",
    "#### 코드 작성 패턴\n",
    "1. 빈 리스트 만들기 (입력값에 따른)\n",
    "2. 초기값 설정\n",
    "3. 점화식 기반으로 계산값 적용\n",
    "4. 특정 입력값에 따른 계산값을 리스트에서 추출하기"
   ]
  },
  {
   "cell_type": "code",
   "execution_count": 22,
   "id": "7a377201",
   "metadata": {},
   "outputs": [],
   "source": [
    "# 1. 빈 리스트 만들기\n",
    "dp = [0]*1001"
   ]
  },
  {
   "cell_type": "code",
   "execution_count": 23,
   "id": "f1aed94d",
   "metadata": {},
   "outputs": [],
   "source": [
    "# 2. 초기값 설정\n",
    "dp[1] = 1\n",
    "dp[2] = 2"
   ]
  },
  {
   "cell_type": "code",
   "execution_count": 24,
   "id": "963a4620",
   "metadata": {},
   "outputs": [],
   "source": [
    "# 3. 점화식 기반으로 계산값 적용하기\n",
    "for index in range(3,1001):\n",
    "    dp[index] = dp[index-1] + dp[index-2]"
   ]
  },
  {
   "cell_type": "code",
   "execution_count": 26,
   "id": "ff26abee",
   "metadata": {},
   "outputs": [
    {
     "data": {
      "text/plain": [
       "55"
      ]
     },
     "execution_count": 26,
     "metadata": {},
     "output_type": "execute_result"
    }
   ],
   "source": [
    "#4. 특정 입력값에 따른 계산 값 출력\n",
    "dp[9]"
   ]
  },
  {
   "cell_type": "code",
   "execution_count": 16,
   "id": "dcf4225f",
   "metadata": {},
   "outputs": [],
   "source": [
    "# 점화식에 대한 함수\n",
    "def rectangle(n):\n",
    "    if n==1:\n",
    "        return 1\n",
    "    if n==2:\n",
    "        return 2\n",
    "    return rectangle(n-1) + rectangle(n-2)"
   ]
  },
  {
   "cell_type": "markdown",
   "id": "6ccf4700",
   "metadata": {},
   "source": [
    "#### 점화식 문제 풀이 2  - 파도반 수열"
   ]
  },
  {
   "cell_type": "code",
   "execution_count": 31,
   "id": "61276804",
   "metadata": {
    "scrolled": false
   },
   "outputs": [
    {
     "name": "stdout",
     "output_type": "stream",
     "text": [
      "9\n",
      "7\n"
     ]
    }
   ],
   "source": [
    "#1. 빈 리스트 만들기 (입력값에 따른)\n",
    "dp = [0]*101\n",
    "#2. 초기값 설정\n",
    "dp[1] = 1\n",
    "dp[2] = 1\n",
    "dp[3] = 1\n",
    "#3. 점화식 기반으로 계산값 적용\n",
    "for index in range(4,101):\n",
    "    dp[index] = dp[index - 3] + dp[index - 2]\n",
    "#4. 특정 입력값에 따른 계산값을 리스트에서 추출하기\n",
    "n = int(input())\n",
    "print(dp[n])"
   ]
  },
  {
   "cell_type": "markdown",
   "id": "4338b9bc",
   "metadata": {},
   "source": [
    "## 분할 정복(하향식)"
   ]
  },
  {
   "cell_type": "markdown",
   "id": "6d35fa88",
   "metadata": {},
   "source": [
    "### 퀵 정렬 \n",
    "\n",
    "- 정렬 알고리즘의 꽃\n",
    "- 기준점을 정해서 (pivot) 기준점보다 작은 데이터는 왼쪽, 큰 데이터는 오른쪽에 저장\n",
    "- 함수는 왼쪽 + 기준점 + 오른쪽을 리턴함"
   ]
  },
  {
   "cell_type": "code",
   "execution_count": 3,
   "id": "d54d8673",
   "metadata": {},
   "outputs": [],
   "source": [
    "def qsort(data):\n",
    "    if len(data)<=1:\n",
    "        return data\n",
    "    left,right = list(),list()\n",
    "    pivot = data[0]\n",
    "    \n",
    "    for index in range(1 , len(data)):\n",
    "        if pivot>data[index]:\n",
    "            left.append(data[index])\n",
    "        else:\n",
    "            right.append(data[index])\n",
    "    return qsort(left) + [pivot] + qsort(right)\n"
   ]
  },
  {
   "cell_type": "code",
   "execution_count": 5,
   "id": "3c045e77",
   "metadata": {},
   "outputs": [],
   "source": [
    "#qsort_list_comprehension : 파이썬의 list comprehension으로 깔끔하게 작성\n",
    "def qsort_list_comprehension(data):\n",
    "    if len(data)<=1:\n",
    "        return data\n",
    "    pivot = data[0]\n",
    "    left = [item for items in data[1:] if pivot > item]\n",
    "    right = [item for items in data[1:] if pivot <= item]\n",
    "    return qsort(left) + [pivot] + qsort(right)"
   ]
  },
  {
   "cell_type": "code",
   "execution_count": 6,
   "id": "2f57d54b",
   "metadata": {},
   "outputs": [
    {
     "data": {
      "text/plain": [
       "[10, 43, 49, 53, 58, 59, 84, 85, 90, 94]"
      ]
     },
     "execution_count": 6,
     "metadata": {},
     "output_type": "execute_result"
    }
   ],
   "source": [
    "import random\n",
    "data_list = random.sample(range(100),10)\n",
    "\n",
    "qsort(data_list)"
   ]
  },
  {
   "cell_type": "markdown",
   "id": "b6e3077e",
   "metadata": {},
   "source": [
    "#### 알고리즘 분석\n",
    "\n",
    "- 병합 정렬과 유사 시간 복잡도는 O(n log n)\n",
    "- 최악의 경우 : 맨 처음 pivot이 가장 크거나, 가장 작으면 O(n^2)\n"
   ]
  },
  {
   "cell_type": "markdown",
   "id": "461a0bc6",
   "metadata": {},
   "source": [
    "### 병합 정렬\n",
    "\n",
    "- 재귀용법을 활용한 정렬 알고리즘\n",
    "1. 리스트를 절반으로 잘라 비슷한 크기의 두 부분 리스트로 나눈다\n",
    "2. 각 부분 리스트를 재귀적으로 합병 정렬을 이용해 정렬한다\n",
    "3. 두 부분 리스트를 다시 하나의 정렬된 리스트로 합병한다."
   ]
  },
  {
   "cell_type": "markdown",
   "id": "401e752c",
   "metadata": {},
   "source": [
    "####  작은 부분 구현해보기"
   ]
  },
  {
   "cell_type": "code",
   "execution_count": 11,
   "id": "a072a10a",
   "metadata": {
    "scrolled": true
   },
   "outputs": [
    {
     "name": "stdout",
     "output_type": "stream",
     "text": [
      "[3, 4] [1, 3]\n"
     ]
    }
   ],
   "source": [
    "#split 단계\n",
    "def split(data):\n",
    "    medium = int(len(data)/2)\n",
    "    left = data[:medium]\n",
    "    right = data[medium:]\n",
    "    print(left,right)\n",
    "data_list = [3,4,1,3]\n",
    "split(data_list)"
   ]
  },
  {
   "cell_type": "code",
   "execution_count": 14,
   "id": "c28f61c8",
   "metadata": {},
   "outputs": [],
   "source": [
    "#merge 단계\n",
    "def merge(left,right):\n",
    "    merged = list()\n",
    "    left_point, right_point =0,0\n",
    "    \n",
    "    # case1 : left + right 아직 남아있을 때\n",
    "    while len(left)> left_point and len(right)> right_point:\n",
    "        if left[left_point] > right[right_point]:\n",
    "            merged.append(right[right_point])\n",
    "            right_point+=1\n",
    "        else:\n",
    "            merged.append(left[left_point])\n",
    "            left_point+=1\n",
    "    # case2 : left 만 남아있을 때\n",
    "    while len(left)>left_point:\n",
    "        merged.append(left[left_point])\n",
    "        left_point+=1\n",
    "    # case3 : right 만 남아있을 때\n",
    "    while len(right)>right_point:\n",
    "        merged.append(right[right_point])\n",
    "        right_point+=1\n",
    "    \n",
    "    return merged"
   ]
  },
  {
   "cell_type": "code",
   "execution_count": 15,
   "id": "60baaabb",
   "metadata": {},
   "outputs": [],
   "source": [
    "def mergesplit(data):\n",
    "    if len(data) <=1:\n",
    "        return data\n",
    "    medium = int(len(data)/2)\n",
    "    left = mergesplit(data[:medium])\n",
    "    right = mergesplit(data[medium:])\n",
    "    return merge(left,right)"
   ]
  },
  {
   "cell_type": "code",
   "execution_count": 16,
   "id": "17fa4e64",
   "metadata": {},
   "outputs": [
    {
     "data": {
      "text/plain": [
       "[1, 9, 11, 14, 20, 44, 49, 79, 96, 98]"
      ]
     },
     "execution_count": 16,
     "metadata": {},
     "output_type": "execute_result"
    }
   ],
   "source": [
    "import random\n",
    "data_list = random.sample(range(100),10)\n",
    "mergesplit(data_list) "
   ]
  },
  {
   "cell_type": "markdown",
   "id": "dadb9c60",
   "metadata": {},
   "source": [
    "#### 알고리즘 분석 (어려움)\n",
    "\n",
    "- 몇 단계 까지 만들어지는지를 i로 놓고 보면\n",
    "- 각 단계의 길이는 n / 2^2 , 2^i개의 노드가 있으므로\n",
    "- 2^i * n / 2^i 이므로 O(n)의 시간복잡도\n",
    "- 단계는 항상 log2n 개 만큼 만들어지므로, O(log n)\n",
    "- 따라서 O(n) * O(long n) = O(n log n)"
   ]
  },
  {
   "cell_type": "code",
   "execution_count": null,
   "id": "55660098",
   "metadata": {},
   "outputs": [],
   "source": []
  }
 ],
 "metadata": {
  "kernelspec": {
   "display_name": "Python 3 (ipykernel)",
   "language": "python",
   "name": "python3"
  },
  "language_info": {
   "codemirror_mode": {
    "name": "ipython",
    "version": 3
   },
   "file_extension": ".py",
   "mimetype": "text/x-python",
   "name": "python",
   "nbconvert_exporter": "python",
   "pygments_lexer": "ipython3",
   "version": "3.9.12"
  }
 },
 "nbformat": 4,
 "nbformat_minor": 5
}

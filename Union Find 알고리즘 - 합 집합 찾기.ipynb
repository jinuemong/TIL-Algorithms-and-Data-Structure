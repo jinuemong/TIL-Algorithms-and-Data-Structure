{
 "cells": [
  {
   "cell_type": "markdown",
   "id": "1934505a",
   "metadata": {},
   "source": [
    "### Union - Find 알고리즘 : 합 집합 찾기\n",
    "\n",
    "- 원소들의 연결 여부를 확인\n",
    "- 더 작은 원소를 부모로 삼도록 설정\n",
    "\n",
    "##### 방식\n",
    "\n",
    "- 각자 자신을 원소로 가진다\n",
    "- 1 - [1], 2 - [2], 3 - [3], 4 - [4]\n",
    "- 1-4를 합치고 , 2-4를 합친다고 가정\n",
    "\n",
    "##### 합집합으로 1-4를 연결 할 경우\n",
    "- 4 - [1]로 변경해주어서 1과 4를 합쳐줌\n",
    "- 1 - [1], 2 - [2], 3 - [3], 4 - [1]\n",
    "\n",
    "##### 합집합으로 2 -4를 연결할 경우\n",
    "\n",
    "- 2 - [4]로 연결 , 4 - [1]로 연결 되어 있으므로 2 - [1]로 연결\n",
    "- 1 - [1], 2 - [1], 3 - [3], 4 - [1]\n",
    "- {1,2,4} , {3} 두 집합으로 연결"
   ]
  },
  {
   "cell_type": "code",
   "execution_count": 2,
   "id": "75cf4bce",
   "metadata": {},
   "outputs": [],
   "source": [
    "# https://jinudmjournal.tistory.com/74\n"
   ]
  },
  {
   "cell_type": "code",
   "execution_count": null,
   "id": "75bcce2e",
   "metadata": {},
   "outputs": [],
   "source": []
  }
 ],
 "metadata": {
  "kernelspec": {
   "display_name": "Python 3 (ipykernel)",
   "language": "python",
   "name": "python3"
  },
  "language_info": {
   "codemirror_mode": {
    "name": "ipython",
    "version": 3
   },
   "file_extension": ".py",
   "mimetype": "text/x-python",
   "name": "python",
   "nbconvert_exporter": "python",
   "pygments_lexer": "ipython3",
   "version": "3.9.12"
  }
 },
 "nbformat": 4,
 "nbformat_minor": 5
}

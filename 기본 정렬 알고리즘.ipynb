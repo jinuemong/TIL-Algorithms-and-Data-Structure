{
 "cells": [
  {
   "cell_type": "markdown",
   "id": "c352095e",
   "metadata": {},
   "source": [
    "## 정렬이란?\n",
    "\n",
    "- 어떤 데이터들이 주어졌을 때 이를 정해진 순서로 나열하는 방법\n",
    "- 다양한 알고리즘 학습하여 알고리즘 간 성능 분석이 필요함"
   ]
  },
  {
   "cell_type": "markdown",
   "id": "3f061338",
   "metadata": {},
   "source": [
    "## 버블 정렬\n",
    "- 인접한 두 데이터를 비교하여 앞에 있는 데이터가 뒤에 있는 데이터 보다 크면 자리를 바꿈"
   ]
  },
  {
   "cell_type": "code",
   "execution_count": 8,
   "id": "38fe19f5",
   "metadata": {},
   "outputs": [],
   "source": [
    "def bubblesort(data):\n",
    "    swap = False\n",
    "    for index in range(len(data)-1):\n",
    "        for index2 in range(len(data)-index-1):\n",
    "            if data[index2] > data[index2+1]:\n",
    "                data[index2], data[index2+1] = data[index2+1] , data[index2]\n",
    "                swap = True\n",
    "        if swap == False:\n",
    "            break"
   ]
  },
  {
   "cell_type": "code",
   "execution_count": 9,
   "id": "30873419",
   "metadata": {
    "scrolled": true
   },
   "outputs": [
    {
     "name": "stdout",
     "output_type": "stream",
     "text": [
      "[88, 91, 79, 94, 18, 24, 71, 3, 72, 61]\n",
      "[3, 18, 24, 61, 71, 72, 79, 88, 91, 94]\n"
     ]
    }
   ],
   "source": [
    "import random\n",
    "\n",
    "data_list = random.sample(range(100),10)\n",
    "print(data_list)\n",
    "bubblesort(data_list)\n",
    "print(data_list)"
   ]
  },
  {
   "cell_type": "markdown",
   "id": "0b10d54e",
   "metadata": {},
   "source": [
    "### 알고리즘 분석\n",
    "- 반복문 두 개 : O(n^2)\n",
    "- 최악의 경우, n*(n-1)/2\n",
    "- 최선의 경우 O(n)"
   ]
  },
  {
   "cell_type": "markdown",
   "id": "9c1b3911",
   "metadata": {},
   "source": [
    "## 삽입 정렬\n",
    "- 두번째 인덱스부터 시작 . 해당 인덱스를 앞의 인덱스와 비교해서 위치에 삽입\n",
    "- key 값이 큰 데이터를 만나면 위치 변경"
   ]
  },
  {
   "cell_type": "code",
   "execution_count": 4,
   "id": "0548f706",
   "metadata": {},
   "outputs": [],
   "source": [
    "def insertsort(data):\n",
    "    for index in range(len(data)-1):\n",
    "        for index2 in range(index+1, 0,-1):\n",
    "            if data[index2] < data [index2-1]:\n",
    "                data[index2], data[index2-1] = data[index2-1] , data[index2]\n",
    "            else:\n",
    "                break\n",
    "    return data\n",
    "    "
   ]
  },
  {
   "cell_type": "code",
   "execution_count": 2,
   "id": "7119ac3d",
   "metadata": {},
   "outputs": [
    {
     "name": "stdout",
     "output_type": "stream",
     "text": [
      "[58, 69, 88, 8, 2, 24, 10, 64, 83, 92]\n",
      "[2, 8, 10, 24, 58, 64, 69, 83, 88, 92]\n"
     ]
    }
   ],
   "source": [
    "import random\n",
    "\n",
    "data_list = random.sample(range(100),10)\n",
    "print(data_list)\n",
    "insertsort(data_list)\n",
    "print(data_list)"
   ]
  },
  {
   "cell_type": "markdown",
   "id": "6d6ef2c6",
   "metadata": {},
   "source": [
    "### 알고리즘 분석\n",
    "- 반복문 두 개 : O(n^2)\n",
    "- 최악의 경우, n*(n-1)/2\n",
    "- 최선의 경우 O(n)"
   ]
  },
  {
   "cell_type": "markdown",
   "id": "0e4f7a86",
   "metadata": {},
   "source": [
    "## 선택 정렬\n",
    "- 주어진 데이터 중 최소값을 찾음\n",
    "- 해당 최소값을 데이터 맨 앞에 위치한 값과 교체\n",
    "- 맨 앞의 위치를 뺀 나머지 데이터를 동일한 방법으로 반복"
   ]
  },
  {
   "cell_type": "code",
   "execution_count": 5,
   "id": "8793857b",
   "metadata": {},
   "outputs": [],
   "source": [
    "def selectsort(data):\n",
    "    for index in range(len(data)-1):\n",
    "        min_index = index\n",
    "        for index2 in range(index+1,len(data)):\n",
    "            if data[min_index]>data[index2]:\n",
    "                data[min_index] , data[index2],  = data[index2], data[min_index]\n",
    "    return data\n",
    "            "
   ]
  },
  {
   "cell_type": "code",
   "execution_count": 6,
   "id": "11bd581a",
   "metadata": {},
   "outputs": [
    {
     "name": "stdout",
     "output_type": "stream",
     "text": [
      "[61, 54, 11, 38, 64, 45, 91, 70, 28, 41]\n",
      "[11, 28, 38, 41, 45, 54, 61, 64, 70, 91]\n"
     ]
    }
   ],
   "source": [
    "import random\n",
    "\n",
    "data_list = random.sample(range(100),10)\n",
    "print(data_list)\n",
    "selectsort(data_list)\n",
    "print(data_list)"
   ]
  },
  {
   "cell_type": "markdown",
   "id": "c72bbd58",
   "metadata": {},
   "source": [
    "### 알고리즘 분석\n",
    "- 반복문 두 개 : O(n^2)\n",
    "- 실제로 상세 계산하면 , n*(n-1)/2"
   ]
  },
  {
   "cell_type": "markdown",
   "id": "e62afa72",
   "metadata": {},
   "source": [
    "### 참고 : 공간 복잡도\n",
    "- 시간 복잡도 : 얼마나 빠르게 실행\n",
    "- 공간 복잡도 : 얼마나 많은 저장 공간이 필요한지\n",
    "\n",
    "- 통상적으로 둘 다 만족시키기는 어려움\n",
    "\n",
    "- 공간 복잡도 대략적인 계산은 필요함\n",
    "- 현업에서 빅데이터를 다룰 때는 저장 공간도 고려"
   ]
  },
  {
   "cell_type": "markdown",
   "id": "908afdd2",
   "metadata": {},
   "source": []
  }
 ],
 "metadata": {
  "kernelspec": {
   "display_name": "Python 3 (ipykernel)",
   "language": "python",
   "name": "python3"
  },
  "language_info": {
   "codemirror_mode": {
    "name": "ipython",
    "version": 3
   },
   "file_extension": ".py",
   "mimetype": "text/x-python",
   "name": "python",
   "nbconvert_exporter": "python",
   "pygments_lexer": "ipython3",
   "version": "3.9.12"
  }
 },
 "nbformat": 4,
 "nbformat_minor": 5
}

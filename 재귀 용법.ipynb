{
 "cells": [
  {
   "cell_type": "markdown",
   "id": "7e0a0da1",
   "metadata": {},
   "source": [
    "## 재귀 용법 (recursive call, 재귀 호출)\n",
    "\n",
    "- 고급 정렬 알고리즘에서 사용\n",
    "- 함수 안에서 동일한 함수 호출\n",
    "- factorial(n)은 n-1 번의 factorial()함수를 호출해서 곱셈을 함\n",
    "- n-1번의 반복문 : O(n-1)의 시/공간 복잡도 -> 둘 다 O(n)"
   ]
  },
  {
   "cell_type": "code",
   "execution_count": null,
   "id": "ffaa73e2",
   "metadata": {},
   "outputs": [],
   "source": [
    "#일반적인 재귀함수1\n",
    "def function(입력):\n",
    "    if 입력 > 일정값:\n",
    "        return factorial(입력-1)\n",
    "    else:\n",
    "        return 일정값, 입력값, 특정값"
   ]
  },
  {
   "cell_type": "code",
   "execution_count": null,
   "id": "d8f44f22",
   "metadata": {},
   "outputs": [],
   "source": [
    "#일반적인 재귀함수2\n",
    "def function(입력):\n",
    "    if 입력 <= 일정값:\n",
    "        return 일정값, 입력값, 특정값\n",
    "    function(입력보다 작은 값)\n",
    "    return 결과값"
   ]
  },
  {
   "cell_type": "markdown",
   "id": "7d369c24",
   "metadata": {},
   "source": [
    "#### 프로그래밍 연습"
   ]
  },
  {
   "cell_type": "code",
   "execution_count": 1,
   "id": "86cf76a6",
   "metadata": {},
   "outputs": [],
   "source": [
    "# 숫자가 들어 있는 리스트의 합을 구하는 재귀 함수\n",
    "def sum_list(data):\n",
    "    if len(data) ==1:\n",
    "        return data[0]\n",
    "    return data[0]+ sum_list(data[1:]) \n",
    "#슬라이싱으로 첫 데이터 + 나머지 데이터 전송\n",
    "# 1 + (2 3 4 5 6)\n",
    "# 1 + 2 + (3 4 5 6)"
   ]
  },
  {
   "cell_type": "code",
   "execution_count": 11,
   "id": "b944df04",
   "metadata": {},
   "outputs": [
    {
     "name": "stdout",
     "output_type": "stream",
     "text": [
      "55\n"
     ]
    }
   ],
   "source": [
    "data_list = list(range(11))\n",
    "for i in range(1,11):\n",
    "    data_list[i] = i\n",
    "print(sum_list(data_list))"
   ]
  },
  {
   "cell_type": "markdown",
   "id": "0531dda7",
   "metadata": {},
   "source": [
    "### 화문 : 순서를 거꾸로 읽어도 제대로 읽은 것과 같음(재귀)\n",
    "\n",
    "- 리스트 슬라이싱을 활용해서 화문을 판별할 수 잇다\n",
    "- palindrome"
   ]
  },
  {
   "cell_type": "code",
   "execution_count": 18,
   "id": "f45bdc8e",
   "metadata": {},
   "outputs": [],
   "source": [
    "def palindrome(data):\n",
    "    if len(data) ==1:\n",
    "        return data[-1]\n",
    "    return data[-1] + palindrome(data[:-1]) \n",
    "def is_palindrome(data):\n",
    "    if palindrome(data) == data:\n",
    "        print(data+\"는 화문 입니다.\")\n",
    "    else:\n",
    "        print(data+\"는 화문이 아닙니다.\")"
   ]
  },
  {
   "cell_type": "code",
   "execution_count": 22,
   "id": "a57be8f7",
   "metadata": {},
   "outputs": [
    {
     "name": "stdout",
     "output_type": "stream",
     "text": [
      "level는 화문 입니다.\n"
     ]
    }
   ],
   "source": [
    "data = \"level\"\n",
    "is_palindrome(data)"
   ]
  },
  {
   "cell_type": "code",
   "execution_count": 24,
   "id": "eee4a35c",
   "metadata": {},
   "outputs": [],
   "source": [
    "#간략 코드 \n",
    "def palindrome(data):\n",
    "    if len(data)<=1:\n",
    "        print(data+\"는 화문 입니다.\") \n",
    "    if data[0]==data[-1]:\n",
    "        return palindrome(string[1:-1])\n",
    "    else:\n",
    "        print(data+\"는 화문이 아닙니다.\")"
   ]
  },
  {
   "cell_type": "markdown",
   "id": "e73d67e2",
   "metadata": {},
   "source": [
    "#### 프로그래밍 연습1\n",
    "\n",
    "- 정수 n에 대하여 n이 홀수면 3 * n + 1 , n이 짝수면 n / 2 \n",
    "- n이 1이 될 때까지 반복"
   ]
  },
  {
   "cell_type": "code",
   "execution_count": null,
   "id": "656cb6e1",
   "metadata": {},
   "outputs": [],
   "source": [
    "def function1(n):\n",
    "    print(int(n))\n",
    "    if n == 1:\n",
    "        return True\n",
    "    if n%2 == 1:\n",
    "        return function1(3*n+1)\n",
    "    else:\n",
    "        return function1(n/2)"
   ]
  },
  {
   "cell_type": "code",
   "execution_count": null,
   "id": "bf96c33b",
   "metadata": {
    "scrolled": true
   },
   "outputs": [],
   "source": [
    "function1(3)"
   ]
  },
  {
   "cell_type": "markdown",
   "id": "b382bea3",
   "metadata": {},
   "source": [
    "#### 프로그래밍 연습2\n",
    "\n",
    "- 정수 4 를 1,2,3 조합으로 나타내는 경우의 수 출력\n",
    "- n이 입력될 때 1,2,3의 합으로 나타낼 수 있는 방법의 수"
   ]
  },
  {
   "cell_type": "code",
   "execution_count": 3,
   "id": "85991e33",
   "metadata": {},
   "outputs": [],
   "source": [
    "def fun2(n):\n",
    "    if n ==1:\n",
    "        return 1\n",
    "    elif n==2:\n",
    "        return 2\n",
    "    elif n==3:\n",
    "        return 4\n",
    "    return fun2(n-1)+fun2(n-2)+fun2(n-3)"
   ]
  },
  {
   "cell_type": "code",
   "execution_count": 7,
   "id": "4a2cfbe1",
   "metadata": {},
   "outputs": [
    {
     "name": "stdout",
     "output_type": "stream",
     "text": [
      "정수 n을 입력하세요: 2\n",
      "입력한 수 : 2\n",
      "표현 가능한 경우의 수 : 2\n"
     ]
    }
   ],
   "source": [
    "n = input(\"정수 n을 입력하세요: \")\n",
    "n = int(n)\n",
    "print(\"입력한 수 :\",n)\n",
    "print(\"표현 가능한 경우의 수 :\",fun2(n))"
   ]
  },
  {
   "cell_type": "code",
   "execution_count": null,
   "id": "23a99b7d",
   "metadata": {},
   "outputs": [],
   "source": []
  }
 ],
 "metadata": {
  "kernelspec": {
   "display_name": "Python 3 (ipykernel)",
   "language": "python",
   "name": "python3"
  },
  "language_info": {
   "codemirror_mode": {
    "name": "ipython",
    "version": 3
   },
   "file_extension": ".py",
   "mimetype": "text/x-python",
   "name": "python",
   "nbconvert_exporter": "python",
   "pygments_lexer": "ipython3",
   "version": "3.9.12"
  }
 },
 "nbformat": 4,
 "nbformat_minor": 5
}

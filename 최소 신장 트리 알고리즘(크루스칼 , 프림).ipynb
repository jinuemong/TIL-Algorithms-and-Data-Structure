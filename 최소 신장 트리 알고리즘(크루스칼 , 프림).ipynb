{
 "cells": [
  {
   "cell_type": "markdown",
   "id": "cb5a68ed",
   "metadata": {},
   "source": [
    "## 최소 신장 트리 알고리즘"
   ]
  },
  {
   "cell_type": "markdown",
   "id": "73737e33",
   "metadata": {},
   "source": [
    "#### 신장 트리?\n",
    "- 원래 그래프의 모든 노드가 연결되어 있으면서 트리의 속성은 만족하는 그래프\n",
    "- 조건\n",
    "1. 본래의 그래프의 모든 노드를 포함해야 함\n",
    "2. 모든 노드가 서로 연결\n",
    "3. 사이클이 존재하지 않음"
   ]
  },
  {
   "cell_type": "markdown",
   "id": "6d3801b0",
   "metadata": {},
   "source": [
    "### 최소 신장 트리\n",
    "- MST(Minimum Spanning Tree)\n",
    "- 가능한 신장 트리 중에서 간선의 가중치 합이 최소인 트리\n",
    "- 알고리즘 : 크루스칼 + 프림"
   ]
  },
  {
   "cell_type": "markdown",
   "id": "a93f6228",
   "metadata": {},
   "source": [
    "### 크루스칼 알고리즘\n",
    "- 모든 정점을 독립적인 집합으로 만듦 - (ex 리스트)\n",
    "- 모든 간선을 비용을 기준으로 정렬, 비용이 작은 간선부터 양 끝의 두 정점을 비교\n",
    "- 두 정점의 최상위 정점을 확인하고 서로 다를 경우 두 정점을 연결 (사이클 제거)\n",
    "- 탐욕 알고리즘을 기초로 함"
   ]
  },
  {
   "cell_type": "markdown",
   "id": "06ad88c0",
   "metadata": {},
   "source": [
    "### Union-Find 알고리즘 (크루스칼의 사이클 방지)\n",
    "- Disjoint Set을 표현할 때 사용하는 알고리즘 - 트리 구조를 활용\n",
    "- 간단하게 노드들 중에 연결된 노드를 찾거나 노드들을 서로 연결할 때 사용\n",
    "- Disjoint Set \n",
    "- 서로 중복되지 않는 부분 집합들로 나눠진 원소들에 대한 정보를 저장하고 조작\n",
    "- 공통 원소가 없는 상호 베타적인 부분 집합들로 나눠진 원소들에 대한 자료구조\n",
    "- 서로소 집합 자료구조"
   ]
  },
  {
   "cell_type": "markdown",
   "id": "a1565048",
   "metadata": {},
   "source": [
    "####  구성\n",
    "1. 초기화\n",
    "- n개의 원소가 개별 집합으로 이뤄지도록 초기화\n",
    "2. Union\n",
    "- 두 개별 집합을 하나의 집합으로 합침, 두 트리를 하나의 트리로 만듦\n",
    "3. Find\n",
    "- 여러 노드가 존재할 때, 두 개의 노드를 선택해서 현재 두 노드가 서로\n",
    "  같은 그래프에 속하는지 판별하기 위해 각 그룹의 최상단 원소를 확인 \n",
    "- 두 개의 루트 노드가 동일하면 이미 연결되어 있음"
   ]
  },
  {
   "cell_type": "markdown",
   "id": "0f8a9ffe",
   "metadata": {},
   "source": [
    "#### Union-Find 알고리즘의 고려할 점\n",
    "- Union 순서에 따라서 최악의 경우 링크드 리스트와 같은 형태가 됨\n",
    "- 이를 해결하기 위한 union-by-rank 기법, path compression 기법을 활용(성능 개선)"
   ]
  },
  {
   "cell_type": "markdown",
   "id": "90ec2d5f",
   "metadata": {},
   "source": [
    "#### [union-by-rank 기법]\n",
    "- 높이를 작게 하는 기법 (rank=높이)\n",
    "- 높이가 작은 트리를 높이가 큰 트리에 붙임 \n",
    "- 높이가 큰 트리의 루트 노드가 합친 집합의 루트 노드가 되게 함\n",
    "-\n",
    "- 높이가 h-1인 두 개의 트리를 합칠 때는 한 쪽의 트리 높이를 1 증가시켜줌,\n",
    "  이 후에 다른 쪽의 트리를 해당 트리에 붙임"
   ]
  },
  {
   "cell_type": "code",
   "execution_count": null,
   "id": "2667c784",
   "metadata": {},
   "outputs": [],
   "source": []
  }
 ],
 "metadata": {
  "kernelspec": {
   "display_name": "Python 3 (ipykernel)",
   "language": "python",
   "name": "python3"
  },
  "language_info": {
   "codemirror_mode": {
    "name": "ipython",
    "version": 3
   },
   "file_extension": ".py",
   "mimetype": "text/x-python",
   "name": "python",
   "nbconvert_exporter": "python",
   "pygments_lexer": "ipython3",
   "version": "3.9.12"
  }
 },
 "nbformat": 4,
 "nbformat_minor": 5
}

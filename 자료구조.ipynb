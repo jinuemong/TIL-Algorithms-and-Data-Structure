{
 "cells": [
  {
   "cell_type": "markdown",
   "id": "5d8bb06b",
   "metadata": {},
   "source": [
    "#### a : 상단부 셀 , b : 하단부 셀 , shift + enter : 실행"
   ]
  },
  {
   "cell_type": "markdown",
   "id": "25e86a79",
   "metadata": {},
   "source": [
    "### <배열>"
   ]
  },
  {
   "cell_type": "markdown",
   "id": "f7cb06dc",
   "metadata": {},
   "source": [
    "- 파이썬에서는 리스트 타입 = 배열\n",
    "- 장점 : 빠른 접근 가능 \n",
    "- 단점 : 추가 / 삭제가 어려움"
   ]
  },
  {
   "cell_type": "code",
   "execution_count": 9,
   "id": "2fb30191",
   "metadata": {},
   "outputs": [
    {
     "data": {
      "text/plain": [
       "[1, 2, 3, 4, 5]"
      ]
     },
     "execution_count": 9,
     "metadata": {},
     "output_type": "execute_result"
    }
   ],
   "source": [
    "# 1차원 배열 : 리스트로 구현\n",
    "data = [1,2,3,4,5]\n",
    "data"
   ]
  },
  {
   "cell_type": "code",
   "execution_count": 16,
   "id": "33a90258",
   "metadata": {},
   "outputs": [
    {
     "name": "stdout",
     "output_type": "stream",
     "text": [
      "[[1, 2, 3], [4, 5, 6], [7, 8, 9]]\n",
      "[1, 2, 3]\n",
      "6\n"
     ]
    }
   ],
   "source": [
    "#2차원 배열 : 리스트 \n",
    "data = [[1,2,3],[4,5,6],[7,8,9]]\n",
    "print(data)\n",
    "print(data[0])\n",
    "print(data[1][2])"
   ]
  },
  {
   "cell_type": "markdown",
   "id": "fbc94be5",
   "metadata": {},
   "source": [
    "### 연습  : dataset에서 전체 이름 안에 M이 몇번 나왔는지 빈도수 출력"
   ]
  },
  {
   "cell_type": "code",
   "execution_count": 17,
   "id": "5dcfe470",
   "metadata": {},
   "outputs": [],
   "source": [
    "dataset = ['Braund, Mr. Owen Harris',\n",
    "'Cumings, Mrs. John Bradley (Florence Briggs Thayer)',\n",
    "'Heikkinen, Miss. Laina',\n",
    "'Futrelle, Mrs. Jacques Heath (Lily May Peel)',\n",
    "'Allen, Mr. William Henry',\n",
    "'Moran, Mr. James',\n",
    "'McCarthy, Mr. Timothy J',\n",
    "'Palsson, Master. Gosta Leonard',\n",
    "'Johnson, Mrs. Oscar W (Elisabeth Vilhelmina Berg)',\n",
    "'Nasser, Mrs. Nicholas (Adele Achem)',\n",
    "'Sandstrom, Miss. Marguerite Rut',\n",
    "'Bonnell, Miss. Elizabeth',\n",
    "'Saundercock, Mr. William Henry',\n",
    "'Andersson, Mr. Anders Johan',\n",
    "'Vestrom, Miss. Hulda Amanda Adolfina',\n",
    "'Hewlett, Mrs. (Mary D Kingcome) ',\n",
    "'Rice, Master. Eugene',\n",
    "'Williams, Mr. Charles Eugene',\n",
    "'Vander Planke, Mrs. Julius (Emelia Maria Vandemoortele)',\n",
    "'Masselmani, Mrs. Fatima',\n",
    "'Fynney, Mr. Joseph J',\n",
    "'Beesley, Mr. Lawrence',\n",
    "'McGowan, Miss. Anna \"Annie\"',\n",
    "'Sloper, Mr. William Thompson',\n",
    "'Palsson, Miss. Torborg Danira',\n",
    "'Asplund, Mrs. Carl Oscar (Selma Augusta Emilia Johansson)',\n",
    "'Emir, Mr. Farred Chehab',\n",
    "'Fortune, Mr. Charles Alexander',\n",
    "'Dwyer, Miss. Ellen \"Nellie\"',\n",
    "'Todoroff, Mr. Lalio']\n"
   ]
  },
  {
   "cell_type": "code",
   "execution_count": 24,
   "id": "7d00beda",
   "metadata": {},
   "outputs": [
    {
     "name": "stdout",
     "output_type": "stream",
     "text": [
      "38\n"
     ]
    }
   ],
   "source": [
    "m_count = 0\n",
    "for data in dataset:\n",
    "    for index in range(len(data)):\n",
    "        if(data[index]=='M'):\n",
    "            m_count+=1\n",
    "print(m_count)"
   ]
  },
  {
   "cell_type": "markdown",
   "id": "268bd1bf",
   "metadata": {},
   "source": [
    "### <큐>"
   ]
  },
  {
   "cell_type": "markdown",
   "id": "5e47ed0b",
   "metadata": {},
   "source": [
    "- Enqueue : 큐에 데이터를 넣는 기능\n",
    "- Dequeue : 큐에서 데이터를 꺼내는 기능 "
   ]
  },
  {
   "cell_type": "code",
   "execution_count": 10,
   "id": "47100322",
   "metadata": {},
   "outputs": [
    {
     "data": {
      "text/plain": [
       "2"
      ]
     },
     "execution_count": 10,
     "metadata": {},
     "output_type": "execute_result"
    }
   ],
   "source": [
    "import queue\n",
    "data_queue = queue.Queue()\n",
    "data_queue.put(\"funcodiong\")\n",
    "data_queue.put(1)\n",
    "data_queue.qsize()"
   ]
  },
  {
   "cell_type": "code",
   "execution_count": 11,
   "id": "efa8016d",
   "metadata": {},
   "outputs": [
    {
     "data": {
      "text/plain": [
       "'funcodiong'"
      ]
     },
     "execution_count": 11,
     "metadata": {},
     "output_type": "execute_result"
    }
   ],
   "source": [
    "data_queue.get()"
   ]
  },
  {
   "cell_type": "code",
   "execution_count": 12,
   "id": "de012240",
   "metadata": {},
   "outputs": [
    {
     "data": {
      "text/plain": [
       "1"
      ]
     },
     "execution_count": 12,
     "metadata": {},
     "output_type": "execute_result"
    }
   ],
   "source": [
    "data_queue.get()"
   ]
  },
  {
   "cell_type": "code",
   "execution_count": 13,
   "id": "67b3f58b",
   "metadata": {},
   "outputs": [
    {
     "data": {
      "text/plain": [
       "0"
      ]
     },
     "execution_count": 13,
     "metadata": {},
     "output_type": "execute_result"
    }
   ],
   "source": [
    "data_queue.qsize()"
   ]
  },
  {
   "cell_type": "code",
   "execution_count": 14,
   "id": "83c69a2f",
   "metadata": {},
   "outputs": [
    {
     "data": {
      "text/plain": [
       "2"
      ]
     },
     "execution_count": 14,
     "metadata": {},
     "output_type": "execute_result"
    }
   ],
   "source": [
    "data_queue2 = queue.LifoQueue()\n",
    "#Last In Fisrt Out Queue\n",
    "data_queue2.put(\"funcodiong\")\n",
    "data_queue2.put(1)\n",
    "data_queue2.qsize()"
   ]
  },
  {
   "cell_type": "code",
   "execution_count": 15,
   "id": "ee918ee4",
   "metadata": {},
   "outputs": [
    {
     "data": {
      "text/plain": [
       "1"
      ]
     },
     "execution_count": 15,
     "metadata": {},
     "output_type": "execute_result"
    }
   ],
   "source": [
    "data_queue2.get()"
   ]
  },
  {
   "cell_type": "markdown",
   "id": "4d575523",
   "metadata": {},
   "source": [
    "#### PriorityQueue() - 우선순위 큐 \n",
    "- 멀트 태스킹을 위한 스케줄링 방식을 구현하기 위해 사용"
   ]
  },
  {
   "cell_type": "code",
   "execution_count": 19,
   "id": "03dd5bf4",
   "metadata": {},
   "outputs": [
    {
     "name": "stdout",
     "output_type": "stream",
     "text": [
      "<queue.Queue object at 0x0000023157CC3C40>\n"
     ]
    }
   ],
   "source": [
    "data_queue3  = queue.PriorityQueue()\n",
    "data_queue3.put((10,\"korea\"))\n",
    "data_queue.put((5,1)) #우선순위가 제일 높음 \n",
    "data_queue.put((15,\"china\"))\n",
    "print(data_queue)"
   ]
  },
  {
   "cell_type": "markdown",
   "id": "29bb8943",
   "metadata": {},
   "source": [
    "### 연습  : 리스트 변수로 큐를 다루는 enqueue,dequeue 기능 구현"
   ]
  },
  {
   "cell_type": "code",
   "execution_count": 26,
   "id": "086fe93d",
   "metadata": {},
   "outputs": [],
   "source": [
    "queue_list = list()\n",
    "\n",
    "def enqueue(data):\n",
    "    queue_list.append(data)\n",
    "    \n",
    "def dequeue():\n",
    "    data = queue_list[0]\n",
    "    #가장 먼저 들어간 인덱스 제거 \n",
    "    del queue_list[0]\n",
    "    return data"
   ]
  },
  {
   "cell_type": "code",
   "execution_count": 28,
   "id": "6058af8b",
   "metadata": {},
   "outputs": [
    {
     "data": {
      "text/plain": [
       "20"
      ]
     },
     "execution_count": 28,
     "metadata": {},
     "output_type": "execute_result"
    }
   ],
   "source": [
    "for index in range(10):\n",
    "    enqueue(index)\n",
    "len(queue_list)"
   ]
  },
  {
   "cell_type": "code",
   "execution_count": 30,
   "id": "dad3c430",
   "metadata": {},
   "outputs": [
    {
     "data": {
      "text/plain": [
       "0"
      ]
     },
     "execution_count": 30,
     "metadata": {},
     "output_type": "execute_result"
    }
   ],
   "source": [
    "dequeue()"
   ]
  },
  {
   "cell_type": "code",
   "execution_count": 31,
   "id": "86e9a1cb",
   "metadata": {},
   "outputs": [
    {
     "data": {
      "text/plain": [
       "1"
      ]
     },
     "execution_count": 31,
     "metadata": {},
     "output_type": "execute_result"
    }
   ],
   "source": [
    "dequeue()"
   ]
  },
  {
   "cell_type": "markdown",
   "id": "0a7efeaa",
   "metadata": {},
   "source": [
    "### <스택>\n",
    "\n",
    "- LIFO 정책\n",
    "- 컴퓨터 내부의 프로세스 구조의 함수 동작 방식\n",
    "- push() : 데이터를 스택에 넣기\n",
    "- pop() : 스택에서 꺼내기\n",
    "- 장 : 구조 단순 ,구현 쉬움 , 빠른 속도\n",
    "- 단 : 최대 갯수를 미리 정해야함 , 저장 공간 낭비 "
   ]
  },
  {
   "cell_type": "code",
   "execution_count": 34,
   "id": "f70af0a4",
   "metadata": {},
   "outputs": [
    {
     "data": {
      "text/plain": [
       "[1, 2]"
      ]
     },
     "execution_count": 34,
     "metadata": {},
     "output_type": "execute_result"
    }
   ],
   "source": [
    "data_stack = list()\n",
    "data_stack.append(1)\n",
    "data_stack.append(2)\n",
    "data_stack"
   ]
  },
  {
   "cell_type": "code",
   "execution_count": 35,
   "id": "2aa183da",
   "metadata": {},
   "outputs": [
    {
     "data": {
      "text/plain": [
       "2"
      ]
     },
     "execution_count": 35,
     "metadata": {},
     "output_type": "execute_result"
    }
   ],
   "source": [
    "data_stack.pop()"
   ]
  },
  {
   "cell_type": "markdown",
   "id": "8f8d78d1",
   "metadata": {},
   "source": [
    "### 연습  : 리스트 변수로 스택을 다루는 pop,push 기능 구현"
   ]
  },
  {
   "cell_type": "code",
   "execution_count": 37,
   "id": "8d6f035a",
   "metadata": {},
   "outputs": [],
   "source": [
    "stack_list = list()\n",
    "\n",
    "def push(data):\n",
    "    stack_list.append(data)\n",
    "def pop():\n",
    "    data = stack_list[-1]\n",
    "    del stack_list[-1]\n",
    "    return data\n",
    "for index in range(10):\n",
    "    push(index)\n"
   ]
  },
  {
   "cell_type": "code",
   "execution_count": 38,
   "id": "6f734d03",
   "metadata": {},
   "outputs": [
    {
     "data": {
      "text/plain": [
       "9"
      ]
     },
     "execution_count": 38,
     "metadata": {},
     "output_type": "execute_result"
    }
   ],
   "source": [
    "pop()"
   ]
  },
  {
   "cell_type": "code",
   "execution_count": 39,
   "id": "98a46045",
   "metadata": {},
   "outputs": [
    {
     "data": {
      "text/plain": [
       "8"
      ]
     },
     "execution_count": 39,
     "metadata": {},
     "output_type": "execute_result"
    }
   ],
   "source": [
    "pop()"
   ]
  },
  {
   "cell_type": "markdown",
   "id": "db0c9a94",
   "metadata": {},
   "source": [
    "### <링크드 리스트>\n",
    "\n",
    "- 연결 리스트 , 순차적 연결 공간에 데이터 나열 \n",
    "- 장 : 데이터 공간을 미리 할당하지 않아도 됨\n",
    "- 단 : 저장공간 효율 감소, 느린 접근 속도, 데이터 삭제시 재구성 필요성"
   ]
  },
  {
   "cell_type": "code",
   "execution_count": 58,
   "id": "144f56f1",
   "metadata": {},
   "outputs": [],
   "source": [
    "#두 가지 데이터를 저장하기 위해서 클래스 사용 \n",
    "class Node:\n",
    "    def __init__(self,data,next=None):\n",
    "        self.data = data\n",
    "        self.next = next\n",
    "def add(data):\n",
    "    node = head\n",
    "    while node.next: #있다면 반복\n",
    "        node = node.next #제일 끝 노드를 찾는 과정 \n",
    "    node.next = Node(data)\n",
    "\n",
    "    \n",
    "node1 = Node(1)\n",
    "#head는 node가 가리키는 첫번째 값\n",
    "head = node1\n",
    "for index in range(2,10):\n",
    "    add(index)"
   ]
  },
  {
   "cell_type": "code",
   "execution_count": 59,
   "id": "d8a0fcb2",
   "metadata": {},
   "outputs": [
    {
     "name": "stdout",
     "output_type": "stream",
     "text": [
      "1\n",
      "2\n",
      "3\n",
      "4\n",
      "5\n",
      "6\n",
      "7\n",
      "8\n",
      "9\n"
     ]
    }
   ],
   "source": [
    "#출력\n",
    "node = head\n",
    "while node.next:\n",
    "    print(node.data)\n",
    "    node = node.next\n",
    "print(node.data)"
   ]
  },
  {
   "cell_type": "markdown",
   "id": "ed72e581",
   "metadata": {},
   "source": [
    "### 링크드 리스트로 중간에 데이터 추가하기 "
   ]
  },
  {
   "cell_type": "code",
   "execution_count": 62,
   "id": "a21aa829",
   "metadata": {},
   "outputs": [],
   "source": [
    "\n",
    "node3 = Node(2.5) #2.5를 값으로 가지는 노드 생성 \n",
    "node = head  #헤더값 = 기존 node의 첫번째 값 \n",
    "search = True\n",
    "while search:\n",
    "    if node.data == 2:\n",
    "        search = False\n",
    "    else:\n",
    "        node = node.next\n",
    "    if node.next == None:\n",
    "        break\n",
    "#Node 이전 값을 찾으면  search = False -> 반복문 탈출 \n",
    "\n",
    "node_next = node.next\n",
    "node.next = node3\n",
    "node3.next = node_next \n",
    "#사이에 링크 연결 "
   ]
  },
  {
   "cell_type": "code",
   "execution_count": 61,
   "id": "561c8e60",
   "metadata": {},
   "outputs": [
    {
     "name": "stdout",
     "output_type": "stream",
     "text": [
      "1\n",
      "2\n",
      "2.5\n",
      "3\n",
      "4\n",
      "5\n",
      "6\n",
      "7\n",
      "8\n",
      "9\n"
     ]
    }
   ],
   "source": [
    "#출력하기\n",
    "node = head\n",
    "while node.next:\n",
    "    print(node.data)\n",
    "    node = node.next\n",
    "print(node.data)"
   ]
  },
  {
   "cell_type": "markdown",
   "id": "d43d9d67",
   "metadata": {},
   "source": [
    "### 파이썬 객체지향 프로그래밍으로 링크드 리스트 구현하기"
   ]
  },
  {
   "cell_type": "code",
   "execution_count": 16,
   "id": "e296917e",
   "metadata": {},
   "outputs": [],
   "source": [
    "class Node:\n",
    "    def __init__(self,data,next=None):\n",
    "        self.data = data\n",
    "        self.next = next\n",
    "        \n",
    "class NodeMgmt: #노드 관리 클래스 \n",
    "    def __init__(self,data):\n",
    "        self.head = Node(data) #맨 앞의 노드의 데이터 값을 받음\n",
    "    def add(self, data): #노드에 추가 함수\n",
    "        if self.head == '': #만약에 헤더값이 없다면(방어코드)\n",
    "            #첫번째 값을 저장\n",
    "            self.head = Node(data)\n",
    "        else:\n",
    "            node = self.head\n",
    "            while node.next:\n",
    "                node = node.next\n",
    "            node.next = Node(data)\n",
    "    def desc(self):      #전체 내용 출력 함수\n",
    "        node = self.head\n",
    "        while node:\n",
    "            print(node.data)\n",
    "            node = node.next\n",
    "    \n",
    "    #삭제 함수 구현\n",
    "    def delete(self, data):\n",
    "        if self.head == '':\n",
    "            print(\"해당 값을 가진 노드가 없습니다,\")\n",
    "            return #함수 종료 \n",
    "        if self.head.data ==data: #헤드 데이터 삭제\n",
    "            temp = self.head\n",
    "            self.head = self.head.next\n",
    "            del temp\n",
    "        else:\n",
    "            node = self.head #삭제할 데이터가 헤드는 아닐 경우\n",
    "            while node.next:\n",
    "                if node.next.data == data:\n",
    "                    temp = node.next\n",
    "                    node.next = node.next.next\n",
    "                    del temp\n",
    "                    return\n",
    "                # 데이터 삭제 (마지막 데이터 값도 삭제 - next.next가 None)\n",
    "                else:\n",
    "                    node = node.next "
   ]
  },
  {
   "cell_type": "code",
   "execution_count": 26,
   "id": "0de87017",
   "metadata": {},
   "outputs": [
    {
     "name": "stdout",
     "output_type": "stream",
     "text": [
      "0\n"
     ]
    }
   ],
   "source": [
    "linkedlist1 = NodeMgmt(0) #데이터의 첫 값을 지정 , 방어코드 작동 \n",
    "linkedlist1.desc()"
   ]
  },
  {
   "cell_type": "code",
   "execution_count": 27,
   "id": "c6d70e94",
   "metadata": {},
   "outputs": [
    {
     "name": "stdout",
     "output_type": "stream",
     "text": [
      "0\n",
      "1\n",
      "2\n",
      "3\n",
      "4\n",
      "5\n",
      "6\n",
      "7\n",
      "8\n",
      "9\n"
     ]
    }
   ],
   "source": [
    "for data in range(1,10):\n",
    "    linkedlist1.add(data)\n",
    "linkedlist1.desc()"
   ]
  },
  {
   "cell_type": "markdown",
   "id": "9b4e0561",
   "metadata": {},
   "source": [
    "### 링크드 리스트 데이터 삭제하기\n",
    "\n",
    "- 1. head 삭제\n",
    "- 2. 마지막 노드 삭제\n",
    "- 3. 중간 노드 삭제"
   ]
  },
  {
   "cell_type": "code",
   "execution_count": 28,
   "id": "a7edeb55",
   "metadata": {},
   "outputs": [
    {
     "data": {
      "text/plain": [
       "<__main__.Node at 0x251f64308e0>"
      ]
     },
     "execution_count": 28,
     "metadata": {},
     "output_type": "execute_result"
    }
   ],
   "source": [
    "linkedlist1.delete(0)\n",
    "linkedlist1.head\n",
    "#성공적으로 삭제 됨"
   ]
  },
  {
   "cell_type": "code",
   "execution_count": null,
   "id": "e3930eb5",
   "metadata": {},
   "outputs": [],
   "source": [
    "for index in range(1,10,2): #홀수 삭제\n",
    "    linkedlist1.delete(index)"
   ]
  },
  {
   "cell_type": "code",
   "execution_count": null,
   "id": "d5c265ab",
   "metadata": {},
   "outputs": [],
   "source": [
    "linkedlist1.desc()"
   ]
  },
  {
   "cell_type": "markdown",
   "id": "76c2f0f0",
   "metadata": {},
   "source": [
    "### <더블 링크드 리스트> \n",
    "\n",
    "- 이중 연결 리스트 , 양뱡항 연결, 양쪽 탐색 가능"
   ]
  },
  {
   "cell_type": "code",
   "execution_count": 6,
   "id": "ee517f65",
   "metadata": {},
   "outputs": [],
   "source": [
    "class Node:\n",
    "    def __init__(self,data,prev=None, next=None): #앞 뒤\n",
    "        self.prev = prev\n",
    "        self.data = data\n",
    "        self.next = next\n",
    "class NodeMgmt:\n",
    "    def __init__(self,data): #첫 노드 \n",
    "        self.head= Node(data)\n",
    "        self.tail = self.head\n",
    "        \n",
    "    def insert(self, data): #노드 추가 \n",
    "        if self.head == None:\n",
    "            self.head = Node(data)\n",
    "            self.tail = self.head\n",
    "        else:\n",
    "            node = self.head\n",
    "            while node.next:#노드가 존재하는 끝까지 반복\n",
    "                node = node.next\n",
    "            new = Node(data) #new에 저장할 노드 값 저장 \n",
    "            node.next = new #기존 노드가 저장할 노드를 가리킴(노드 추가)\n",
    "            new.prev = node #저장할 노드의 이전 값은 기존 노드\n",
    "            self.tail = new #기존 노드의 꼬리를 새 노드의 꼬리로 변경\n",
    "    def desc(self):\n",
    "        node = self.head\n",
    "        while node:\n",
    "            print(node.data)\n",
    "            node = node.next\n",
    "            \n",
    "    def search_from_head(self, data): #머리부터 탐색\n",
    "        if self.head == None:\n",
    "            return False\n",
    "        \n",
    "        node = self.head\n",
    "        while node:\n",
    "            if node.data == data:\n",
    "                return node\n",
    "            else:\n",
    "                node = node.next\n",
    "        return False\n",
    "    \n",
    "    def search_from_tail(self, data): #꼬리부터 탐색\n",
    "        if self.head == None:\n",
    "            return False\n",
    "        \n",
    "        node = self.tail\n",
    "        while node:\n",
    "            if node.data == data:\n",
    "                return node\n",
    "            else:\n",
    "                node = node.prev\n",
    "        return False\n",
    "    \n",
    "    def insert_before(self,data, before_data): #특정 데이터 앞 추가\n",
    "        if self.head == None: #헤더가 없을 시 헤더로 등록 \n",
    "            self.head = Node(data)\n",
    "            return True\n",
    "        else:\n",
    "            node = self.tail\n",
    "            while node.data!=before_data: #데이터 찾기\n",
    "                node = node.prev\n",
    "                if node == None:\n",
    "                    return False\n",
    "            new = Node(data)\n",
    "            before_new = node.prev\n",
    "            before_new.next = new  \n",
    "            new.prev = before_new\n",
    "            new.next = node \n",
    "            node.prev = new \n",
    "            return True\n",
    "    def insert_after(self,data, after_data): #특정 데이터 뒤 추가\n",
    "        if self.head ==None:\n",
    "            self.head = Node(data)\n",
    "            return True\n",
    "        else:\n",
    "            node = self.head\n",
    "            while node.data!=after_data:\n",
    "                node = node.next\n",
    "                if node ==None:\n",
    "                    return False\n",
    "            new = Node(data)\n",
    "            after_new = node.next\n",
    "            after_new.prev = new\n",
    "            new.prev = node\n",
    "            new.next = after_new\n",
    "            node.next = new\n",
    "            return True\n",
    "                "
   ]
  },
  {
   "cell_type": "code",
   "execution_count": 7,
   "id": "9c1bc739",
   "metadata": {},
   "outputs": [
    {
     "name": "stdout",
     "output_type": "stream",
     "text": [
      "0\n",
      "1\n",
      "2\n",
      "3\n",
      "4\n",
      "5\n",
      "6\n",
      "7\n",
      "8\n",
      "9\n"
     ]
    }
   ],
   "source": [
    "double_linked_list = NodeMgmt(0)\n",
    "for data in range(1,10):\n",
    "    double_linked_list.insert(data)\n",
    "double_linked_list.desc()"
   ]
  },
  {
   "cell_type": "code",
   "execution_count": 8,
   "id": "b543ec52",
   "metadata": {},
   "outputs": [
    {
     "data": {
      "text/plain": [
       "3"
      ]
     },
     "execution_count": 8,
     "metadata": {},
     "output_type": "execute_result"
    }
   ],
   "source": [
    "node_3 = double_linked_list.search_from_head(3)\n",
    "node_3.data"
   ]
  },
  {
   "cell_type": "code",
   "execution_count": 9,
   "id": "a54e207a",
   "metadata": {},
   "outputs": [
    {
     "name": "stdout",
     "output_type": "stream",
     "text": [
      "0\n",
      "1\n",
      "1.5\n",
      "2\n",
      "3\n",
      "4\n",
      "5\n",
      "6\n",
      "7\n",
      "8\n",
      "9\n"
     ]
    }
   ],
   "source": [
    "double_linked_list.insert_before(1.5 , 2)\n",
    "double_linked_list.desc()"
   ]
  },
  {
   "cell_type": "code",
   "execution_count": 10,
   "id": "99752ded",
   "metadata": {
    "scrolled": true
   },
   "outputs": [
    {
     "name": "stdout",
     "output_type": "stream",
     "text": [
      "0\n",
      "1\n",
      "1.5\n",
      "2\n",
      "3\n",
      "3.5\n",
      "4\n",
      "5\n",
      "6\n",
      "7\n",
      "8\n",
      "9\n"
     ]
    }
   ],
   "source": [
    "double_linked_list.insert_after(3.5 , 3)\n",
    "double_linked_list.desc()"
   ]
  },
  {
   "cell_type": "markdown",
   "id": "deee11ca",
   "metadata": {},
   "source": [
    "### <해쉬 테이블>\n",
    "\n",
    "1. 해쉬 구조 \n",
    "- Hash Table : 키에 데이터를 저장하는 구조 (빠른 속도)\n",
    "- 파이썬은 딕셔너리로 해쉬 테이블 대체\n",
    "2. 장단점\n",
    "- 장점 : 빠른 속도 . 키에 대한 데이터가 있는지 확인이 쉬움\n",
    "- 단점 : 저장공간이 좀 더 필요, 주소가 동일할 경우 충돌 해결을 위한 자료구조 필요\n",
    "3. 주 사용\n",
    "- 검색이 많이 필요, 저장+삭제+읽기가 빈번 , 캐쉬 구현 시 (중복 확인이 쉽기 때문)\n"
   ]
  },
  {
   "cell_type": "code",
   "execution_count": 1,
   "id": "8a01ac69",
   "metadata": {},
   "outputs": [
    {
     "data": {
      "text/plain": [
       "[0, 0, 0, 0, 0, 0, 0, 0, 0, 0]"
      ]
     },
     "execution_count": 1,
     "metadata": {},
     "output_type": "execute_result"
    }
   ],
   "source": [
    "hash_table = list([0 for i in range(10)])\n",
    "hash_table"
   ]
  },
  {
   "cell_type": "markdown",
   "id": "deef07f2",
   "metadata": {},
   "source": [
    "#### 나누기 해쉬 함수 사용하기"
   ]
  },
  {
   "cell_type": "code",
   "execution_count": 6,
   "id": "c9b7ecac",
   "metadata": {},
   "outputs": [],
   "source": [
    "def hash_func(key):\n",
    "    return key % 5"
   ]
  },
  {
   "cell_type": "markdown",
   "id": "dd071436",
   "metadata": {},
   "source": [
    "#### 해쉬 테이블에 저장"
   ]
  },
  {
   "cell_type": "code",
   "execution_count": 8,
   "id": "0698e972",
   "metadata": {},
   "outputs": [
    {
     "name": "stdout",
     "output_type": "stream",
     "text": [
      "0 3 4\n"
     ]
    }
   ],
   "source": [
    "data1 = 'Andy'\n",
    "data2 = 'Dave'\n",
    "data3 = 'Trump'\n",
    "\n",
    "## ord() : 문자의 ASCII(아스키)코드 리턴\n",
    "print(hash_func(ord(data1[0])),hash_func(ord(data2[0])),hash_func(ord(data3[0])))"
   ]
  },
  {
   "cell_type": "code",
   "execution_count": 11,
   "id": "98f4d92f",
   "metadata": {},
   "outputs": [],
   "source": [
    "def storage_data(data,value): #암호화\n",
    "    key = ord(data[0])\n",
    "    hash_address =  hash_func(key)\n",
    "    hash_table[hash_address] = value\n",
    "def get_data(data): #복호화\n",
    "    key = ord(data[0])\n",
    "    hash_address = hash_func(key)\n",
    "    return hash_table[hash_address]"
   ]
  },
  {
   "cell_type": "code",
   "execution_count": 16,
   "id": "cfbd861f",
   "metadata": {},
   "outputs": [],
   "source": [
    "storage_data('Andy', '01033334444')"
   ]
  },
  {
   "cell_type": "code",
   "execution_count": 17,
   "id": "74fa617e",
   "metadata": {},
   "outputs": [
    {
     "data": {
      "text/plain": [
       "'01033334444'"
      ]
     },
     "execution_count": 17,
     "metadata": {},
     "output_type": "execute_result"
    }
   ],
   "source": [
    "get_data('Andy')"
   ]
  },
  {
   "cell_type": "markdown",
   "id": "c6cf2bd0",
   "metadata": {},
   "source": [
    "#### 리스트 변수를 활용해서 해쉬 테이블 구현하기\n",
    "\n",
    "- 해쉬 함수 : key % 8\n",
    "- 해쉬 키 생성 : hash(data)"
   ]
  },
  {
   "cell_type": "code",
   "execution_count": 1,
   "id": "2433b73e",
   "metadata": {},
   "outputs": [],
   "source": [
    "hash_table = list([0 for i in range(8)])\n",
    "\n",
    "def get_key(data):\n",
    "    return hash(data)\n",
    "def hash_function(key):\n",
    "    return key%8\n",
    "\n",
    "def save_data(data,value):\n",
    "    hash_address = hash_function(get_key(data))\n",
    "    hash_table[hash_address] = value\n",
    "def read_data(data):\n",
    "    hash_address = hash_function(get_key(data))\n",
    "    return hash_table[hash_address]"
   ]
  },
  {
   "cell_type": "code",
   "execution_count": 2,
   "id": "6eb1aa40",
   "metadata": {},
   "outputs": [],
   "source": [
    "save_data('Dave','0102030200')\n",
    "save_data('Andy','0102030300')"
   ]
  },
  {
   "cell_type": "code",
   "execution_count": 5,
   "id": "c2b8c054",
   "metadata": {},
   "outputs": [
    {
     "name": "stdout",
     "output_type": "stream",
     "text": [
      "0102030300\n",
      "-2014904771559999057\n",
      "7\n"
     ]
    }
   ],
   "source": [
    "print(read_data('Andy'))\n",
    "print(get_key('Andy'))\n",
    "print(hash_function(get_key('Andy')))"
   ]
  },
  {
   "cell_type": "markdown",
   "id": "25560df2",
   "metadata": {},
   "source": [
    "#### 충돌 해결 알고리즘  : 좋은 해쉬함수 사용하기\n",
    "\n",
    "1. Chaining 기법 - 개방 해슁 , Open Hashing 기법  \n",
    "- 저장공간 외에 공간을 활용\n",
    "- 충돌 발생 시 링크드 리스트로 데이터를 추가로 연결\n",
    "\n",
    "2. Linear Probing 기법 - 폐쇠 해슁, close Hashing 기법\n",
    "- 충돌 발생 시 해당 address의 다음 address 부터 맨 처음 나오는 빈공간에 저장하는 기법\n",
    "- 저장공간 활용도 증가\n",
    "\n"
   ]
  },
  {
   "cell_type": "markdown",
   "id": "77952aa8",
   "metadata": {},
   "source": [
    "#### 연습2 : 해쉬 테이블에 Chaining 기법으로 충돌해결 코드 추가"
   ]
  },
  {
   "cell_type": "code",
   "execution_count": 63,
   "id": "4ad17b03",
   "metadata": {},
   "outputs": [],
   "source": [
    "hash_table =list([0 for i in range(8)])\n",
    "\n",
    "def get_key(data):\n",
    "    return hash(data)\n",
    "\n",
    "def hash_function(key):\n",
    "    return key%8\n",
    "\n",
    "def save_data(data,value):\n",
    "    index_key = get_key(data) #같은 해쉬 값을 가지는 것 끼리 구분하기 위함\n",
    "    hash_address = hash_function(index_key)\n",
    "    if hash_table[hash_address]!=0: #데이터가 있다면 \n",
    "        for index in range(len(hash_table[hash_address])): #데이터의 개수를 알기 위함 \n",
    "            if hash_table[hash_address][index][0] ==index_key:\n",
    "                hash_table[hash_address][index][1]=value\n",
    "                return\n",
    "            # hash_table[hash_address][index][0] : 키 , [1] : 값 저장 \n",
    "        hash_table[hash_address].append([index_key,value])\n",
    "    else: #데이터가 없는 경우 \n",
    "        hash_table[hash_address] = list([index_key,value])\n",
    "def read_data(data):\n",
    "    index_key = get_key(data)\n",
    "    hash_address = hash_function(index_key)\n",
    "    if hash_table[hash_address]!=0:\n",
    "        for index in range(len(hash_table[hash_address])):\n",
    "            if hash_table[hash_address][index][0]==index_key:\n",
    "                return hash_table[hash_address][index][1]\n",
    "        return None\n",
    "    else:\n",
    "        return None"
   ]
  },
  {
   "cell_type": "code",
   "execution_count": 64,
   "id": "eb0f20a1",
   "metadata": {},
   "outputs": [
    {
     "name": "stdout",
     "output_type": "stream",
     "text": [
      "5\n",
      "5\n",
      "[0, 0, 0, 0, 0, 0, 0, 0]\n"
     ]
    }
   ],
   "source": [
    "print(hash('Dd')%8)\n",
    "print(hash('Dava')%8)\n",
    "#같은 해쉬를 가짐 \n",
    "print(hash_table)\n"
   ]
  },
  {
   "cell_type": "code",
   "execution_count": 65,
   "id": "f976dfa3",
   "metadata": {},
   "outputs": [],
   "source": [
    "save_data('Dd','123456')"
   ]
  },
  {
   "cell_type": "markdown",
   "id": "b031e51c",
   "metadata": {},
   "source": [
    "#### 연습3 : 해쉬 테이블에 Linear 기법으로 충돌해결 코드 추가"
   ]
  },
  {
   "cell_type": "code",
   "execution_count": 66,
   "id": "9ef9986f",
   "metadata": {},
   "outputs": [],
   "source": [
    "hash_table = list([0 for i in range(8)])\n",
    "\n",
    "def get_key(data):\n",
    "    return hash(data)\n",
    "def hash_function(key):\n",
    "    return key%8\n",
    "\n",
    "def save_data(data,value):\n",
    "    index_key = get_key(data)\n",
    "    hash_address = hash_function(index_key)\n",
    "    \n",
    "    if hash_table[hash_address]!=0: #슬롯에 데이터 있음\n",
    "        for index in range(hash_address, len(hash_table)):\n",
    "            if hash_table[index] == 0:\n",
    "                hash_table[index] = [index_key,value]\n",
    "                return\n",
    "            elif hash_table[index][0]==index_key: #키가 동일 시 데이터 업데이트\n",
    "                hash_table[index][1] = value\n",
    "                return\n",
    "    else:#슬롯에 데이터 없음 - 바로 저장 \n",
    "        hash_table[hash_address] = [index_key,value]\n",
    "        return\n",
    "def read_data(data):\n",
    "    index_key = get_key(data)\n",
    "    hash_address = hash_function(index_key)\n",
    "    \n",
    "    if hash_table[hash_address]!=0:\n",
    "        for index in range(hash_address,len(hash_table)):\n",
    "            if hash_table[index] == 0:\n",
    "                return None # 찾는 값 없음 \n",
    "            elif hash_table[index][0] ==index_key:\n",
    "                return hash_table[index][1]\n",
    "    else:\n",
    "        return None\n",
    "    \n",
    "\n",
    "                \n",
    "        "
   ]
  },
  {
   "cell_type": "code",
   "execution_count": 73,
   "id": "6cca7f28",
   "metadata": {},
   "outputs": [
    {
     "name": "stdout",
     "output_type": "stream",
     "text": [
      "4\n",
      "4\n"
     ]
    }
   ],
   "source": [
    "print(hash('dk')%8)\n",
    "print(hash('du')%8)\n",
    "#동일한 해쉬값"
   ]
  },
  {
   "cell_type": "code",
   "execution_count": 74,
   "id": "ce5c7fbe",
   "metadata": {},
   "outputs": [],
   "source": [
    "save_data('dk','123456')\n",
    "save_data('du','654321')"
   ]
  },
  {
   "cell_type": "code",
   "execution_count": 75,
   "id": "2239e1e8",
   "metadata": {},
   "outputs": [
    {
     "data": {
      "text/plain": [
       "[0,\n",
       " 0,\n",
       " 0,\n",
       " 0,\n",
       " [1881507136793683020, '123456'],\n",
       " [1209603197366273212, '654321'],\n",
       " 0,\n",
       " 0]"
      ]
     },
     "execution_count": 75,
     "metadata": {},
     "output_type": "execute_result"
    }
   ],
   "source": [
    "hash_table"
   ]
  },
  {
   "cell_type": "code",
   "execution_count": null,
   "id": "c644e074",
   "metadata": {},
   "outputs": [],
   "source": []
  }
 ],
 "metadata": {
  "kernelspec": {
   "display_name": "Python 3 (ipykernel)",
   "language": "python",
   "name": "python3"
  },
  "language_info": {
   "codemirror_mode": {
    "name": "ipython",
    "version": 3
   },
   "file_extension": ".py",
   "mimetype": "text/x-python",
   "name": "python",
   "nbconvert_exporter": "python",
   "pygments_lexer": "ipython3",
   "version": "3.9.12"
  }
 },
 "nbformat": 4,
 "nbformat_minor": 5
}

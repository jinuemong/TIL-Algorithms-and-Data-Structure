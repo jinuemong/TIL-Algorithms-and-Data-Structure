{
 "cells": [
  {
   "cell_type": "markdown",
   "id": "b9f13f4d",
   "metadata": {},
   "source": [
    "### 탐욕 알고리즘\n",
    "- Greedy algorithm\n",
    "- 최적의 해에 가까운 값을 구하기 위해 사용\n",
    "- 여러 경우 중 하나를 결정해야할 때마다, 매순간 최적이라고 생각되는 경우를 선택"
   ]
  },
  {
   "cell_type": "markdown",
   "id": "18a59ac9",
   "metadata": {},
   "source": [
    "####  탐욕 알고리즘 예\n",
    "- 동전 문제 \n",
    "- 지불 해야 하는 값이 4720원 일 때 1원 50원 100원 500원 동전으로 동전의 수가 가장 적게 지불\n",
    "- 가장 큰 동전부터 최대한 지불 \n",
    "- 매순간 최적이라고 생각되는 경우 선택"
   ]
  },
  {
   "cell_type": "code",
   "execution_count": 18,
   "id": "47574c1a",
   "metadata": {},
   "outputs": [],
   "source": [
    "coin_list = [1,100,50,500] #코인 종류\n",
    "\n",
    "def min_coin_count(value,coin_list):\n",
    "    total_count = 0\n",
    "    details = list()\n",
    "    coin_list.sort(reverse=True) #큰 순서대로 정렬(내림차순)\n",
    "    for coin in coin_list:\n",
    "        coin_num = value//coin\n",
    "        total_count+=coin_num\n",
    "        value -= coin_num*coin\n",
    "        details.append([coin,coin_num])\n",
    "    return total_count , details"
   ]
  },
  {
   "cell_type": "code",
   "execution_count": 19,
   "id": "c06b851d",
   "metadata": {
    "scrolled": true
   },
   "outputs": [
    {
     "data": {
      "text/plain": [
       "(10, [[500, 10], [100, 0], [50, 0], [1, 0]])"
      ]
     },
     "execution_count": 19,
     "metadata": {},
     "output_type": "execute_result"
    }
   ],
   "source": [
    "coin_list = [1,100,50,500] #코인 종류\n",
    "\n",
    "min_coin_count(5000,coin_list)"
   ]
  },
  {
   "cell_type": "markdown",
   "id": "9dccf812",
   "metadata": {},
   "source": [
    "#### 부분 배낭 문제\n",
    "- 무게 제한이 k인 배낭에 최대 가치를 가지도록 물건을 넣는 문제\n",
    "- 각 물건을 무게(w)와 가치(v)로 표현될 수 있음"
   ]
  },
  {
   "cell_type": "code",
   "execution_count": 27,
   "id": "1342ed16",
   "metadata": {},
   "outputs": [],
   "source": [
    "data_list = [(10,10),(15,12),(20,10),(25,8),(30,5)]"
   ]
  },
  {
   "cell_type": "code",
   "execution_count": 28,
   "id": "3813be7e",
   "metadata": {},
   "outputs": [
    {
     "data": {
      "text/plain": [
       "[(10, 10), (15, 12), (20, 10), (25, 8), (30, 5)]"
      ]
     },
     "execution_count": 28,
     "metadata": {},
     "output_type": "execute_result"
    }
   ],
   "source": [
    "data_list = sorted(data_list,key=lambda x: x[1]/x[0],reverse=True)\n",
    "data_list"
   ]
  },
  {
   "cell_type": "code",
   "execution_count": 29,
   "id": "55e18326",
   "metadata": {},
   "outputs": [],
   "source": [
    "def get_max_value(data_list,capacity):\n",
    "    data_list = sorted(data_list,key = lambda x:x[1]/x[0],reverse=True)\n",
    "    total_value = 0\n",
    "    details = list()\n",
    "    \n",
    "    for data in data_list:\n",
    "        if capacity-data[0]>=0:\n",
    "            capacity -=data[0]\n",
    "            total_value += data[1]\n",
    "            details.append([data[0],data[1],1]) # 1은 100%를 의미\n",
    "        else:\n",
    "            fraction = capacity / data[0]\n",
    "            total_value +=data[1]*fraction\n",
    "            details.append([data[0],data[1],fraction])\n",
    "            break\n",
    "    return total_value,details\n",
    "\n",
    "\n",
    "    "
   ]
  },
  {
   "cell_type": "code",
   "execution_count": 30,
   "id": "ca9a5825",
   "metadata": {},
   "outputs": [
    {
     "data": {
      "text/plain": [
       "(24.5, [[10, 10, 1], [15, 12, 1], [20, 10, 0.25]])"
      ]
     },
     "execution_count": 30,
     "metadata": {},
     "output_type": "execute_result"
    }
   ],
   "source": [
    "get_max_value(data_list,30)"
   ]
  },
  {
   "cell_type": "markdown",
   "id": "cb5cb840",
   "metadata": {},
   "source": [
    "#### 탐욕 알고리즘의 한계\n",
    "\n",
    "- 탐욕 알고리즘은 근사치 추정에 활용\n",
    "- 반드시 최적의 해를 구할 수 있는 것은 아님\n",
    "- 최적의 해에 가까운 값을 구하는 방법 중의 하나\n",
    "- 눈 앞의 최적의 값을 쫒기 때문에 결과적으론 최적이 아닐 수도 있음"
   ]
  },
  {
   "cell_type": "markdown",
   "id": "0456a784",
   "metadata": {},
   "source": [
    "#### 1개의 ATM에서 N명이 사람이 최소의 시간으로 돈을 뽑는 경우의 수"
   ]
  },
  {
   "cell_type": "code",
   "execution_count": 86,
   "id": "bdc9215d",
   "metadata": {},
   "outputs": [],
   "source": [
    "def atm(atm_list):\n",
    "    least_sum = 0\n",
    "    wait_time = 0\n",
    "    atm_list.sort()\n",
    "    for i in atm_list:\n",
    "        wait_time = i+wait_time\n",
    "        least_sum+=wait_time\n",
    "    return least_sum , atm_list"
   ]
  },
  {
   "cell_type": "code",
   "execution_count": 87,
   "id": "a51ef92c",
   "metadata": {
    "scrolled": false
   },
   "outputs": [
    {
     "name": "stdout",
     "output_type": "stream",
     "text": [
      "4\n",
      "[8, 10, 6, 9]\n",
      "(76, [6, 8, 9, 10])\n"
     ]
    }
   ],
   "source": [
    "import random\n",
    "n = int(input())\n",
    "n = random.sample(range(1,11),n)\n",
    "print(n)\n",
    "print(atm(n))"
   ]
  },
  {
   "cell_type": "code",
   "execution_count": 1,
   "id": "24749e0c",
   "metadata": {},
   "outputs": [
    {
     "name": "stdout",
     "output_type": "stream",
     "text": [
      "1 2\n"
     ]
    },
    {
     "data": {
      "text/plain": [
       "[1, 2]"
      ]
     },
     "execution_count": 1,
     "metadata": {},
     "output_type": "execute_result"
    }
   ],
   "source": [
    "a = list(map(int, input().split()))\n",
    "a\n"
   ]
  },
  {
   "cell_type": "code",
   "execution_count": null,
   "id": "03fa08f2",
   "metadata": {},
   "outputs": [],
   "source": []
  }
 ],
 "metadata": {
  "kernelspec": {
   "display_name": "Python 3 (ipykernel)",
   "language": "python",
   "name": "python3"
  },
  "language_info": {
   "codemirror_mode": {
    "name": "ipython",
    "version": 3
   },
   "file_extension": ".py",
   "mimetype": "text/x-python",
   "name": "python",
   "nbconvert_exporter": "python",
   "pygments_lexer": "ipython3",
   "version": "3.9.12"
  }
 },
 "nbformat": 4,
 "nbformat_minor": 5
}
